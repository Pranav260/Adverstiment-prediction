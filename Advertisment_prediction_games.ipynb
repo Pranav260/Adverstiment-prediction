{
 "cells": [
  {
   "cell_type": "markdown",
   "id": "TigNdgTD0qqo",
   "metadata": {
    "id": "TigNdgTD0qqo"
   },
   "source": [
    "## Import libraries\n"
   ]
  },
  {
   "cell_type": "code",
   "execution_count": null,
   "id": "HT0gCbVIAEol",
   "metadata": {
    "colab": {
     "base_uri": "https://localhost:8080/"
    },
    "id": "HT0gCbVIAEol",
    "outputId": "6b27608e-c363-4949-a958-3c2615f2543c"
   },
   "outputs": [],
   "source": []
  },
  {
   "cell_type": "code",
   "execution_count": null,
   "id": "A4FMNn8o0qqp",
   "metadata": {
    "id": "A4FMNn8o0qqp"
   },
   "outputs": [],
   "source": [
    "from datetime import datetime\n",
    "import pandas as pd\n",
    "import seaborn as sns\n",
    "import numpy as np\n",
    "import matplotlib.pyplot as plt\n",
    "import imblearn\n",
    "from imblearn.over_sampling import SMOTE\n",
    "from sklearn.feature_extraction.text import CountVectorizer\n",
    "from sklearn.preprocessing import MinMaxScaler, StandardScaler\n",
    "\n",
    "\n",
    "import torch \n",
    "import torch.nn as nn\n",
    "import torch.nn.functional as F\n",
    "import torch.optim as optim\n",
    "from torch.utils.data import Dataset, DataLoader\n",
    "\n",
    "from sklearn.preprocessing import LabelEncoder\n",
    "from sklearn.preprocessing import StandardScaler    \n",
    "from sklearn.model_selection import train_test_split\n",
    "from sklearn.metrics import confusion_matrix, classification_report\n",
    "from collections import Counter\n",
    "\n",
    "# Import additional libraries of your choice"
   ]
  },
  {
   "cell_type": "markdown",
   "id": "6m_k3Um_0qqq",
   "metadata": {
    "id": "6m_k3Um_0qqq"
   },
   "source": [
    "## Load and prepare data"
   ]
  },
  {
   "cell_type": "code",
   "execution_count": null,
   "id": "tWOz7byP0qqq",
   "metadata": {
    "id": "tWOz7byP0qqq"
   },
   "outputs": [],
   "source": [
    "train_df = pd.read_csv(\"training_data.csv\", sep=\";\", parse_dates=True)\n",
    "test_df = pd.read_csv(\"test_data.csv\", sep=\";\", parse_dates=True)"
   ]
  },
  {
   "cell_type": "code",
   "execution_count": null,
   "id": "oyNEnkILAsdi",
   "metadata": {
    "colab": {
     "base_uri": "https://localhost:8080/",
     "height": 357
    },
    "id": "oyNEnkILAsdi",
    "outputId": "2b4d8ec4-4f4b-4f75-ff6b-1fd8735fc1d3"
   },
   "outputs": [
    {
     "data": {
      "text/html": [
       "\n",
       "  <div id=\"df-305ee5ce-7b53-4ff0-b13d-ef40ad10478b\">\n",
       "    <div class=\"colab-df-container\">\n",
       "      <div>\n",
       "<style scoped>\n",
       "    .dataframe tbody tr th:only-of-type {\n",
       "        vertical-align: middle;\n",
       "    }\n",
       "\n",
       "    .dataframe tbody tr th {\n",
       "        vertical-align: top;\n",
       "    }\n",
       "\n",
       "    .dataframe thead th {\n",
       "        text-align: right;\n",
       "    }\n",
       "</style>\n",
       "<table border=\"1\" class=\"dataframe\">\n",
       "  <thead>\n",
       "    <tr style=\"text-align: right;\">\n",
       "      <th></th>\n",
       "      <th>id</th>\n",
       "      <th>timestamp</th>\n",
       "      <th>campaignId</th>\n",
       "      <th>platform</th>\n",
       "      <th>softwareVersion</th>\n",
       "      <th>sourceGameId</th>\n",
       "      <th>country</th>\n",
       "      <th>startCount</th>\n",
       "      <th>viewCount</th>\n",
       "      <th>clickCount</th>\n",
       "      <th>installCount</th>\n",
       "      <th>lastStart</th>\n",
       "      <th>startCount1d</th>\n",
       "      <th>startCount7d</th>\n",
       "      <th>connectionType</th>\n",
       "      <th>deviceType</th>\n",
       "      <th>install</th>\n",
       "    </tr>\n",
       "  </thead>\n",
       "  <tbody>\n",
       "    <tr>\n",
       "      <th>0</th>\n",
       "      <td>5c36658fb58fad351175f0b6</td>\n",
       "      <td>2019-01-09T21:20:15.943+00:00</td>\n",
       "      <td>59687f0d896a6b0e5ce6ea15</td>\n",
       "      <td>ios</td>\n",
       "      <td>11.4.1</td>\n",
       "      <td>1373094</td>\n",
       "      <td>US</td>\n",
       "      <td>25</td>\n",
       "      <td>24</td>\n",
       "      <td>0</td>\n",
       "      <td>2</td>\n",
       "      <td>2019-01-08T18:49:48.129+00:00</td>\n",
       "      <td>1</td>\n",
       "      <td>8</td>\n",
       "      <td>cellular</td>\n",
       "      <td>iPhone8,2</td>\n",
       "      <td>0</td>\n",
       "    </tr>\n",
       "    <tr>\n",
       "      <th>1</th>\n",
       "      <td>5c38d5ab1c16172870186b5a</td>\n",
       "      <td>2019-01-11T17:43:07.609+00:00</td>\n",
       "      <td>59687f0d896a6b0e5ce6ea15</td>\n",
       "      <td>ios</td>\n",
       "      <td>12.1</td>\n",
       "      <td>2739989</td>\n",
       "      <td>US</td>\n",
       "      <td>10</td>\n",
       "      <td>9</td>\n",
       "      <td>2</td>\n",
       "      <td>0</td>\n",
       "      <td>2019-01-09T21:20:22.855+00:00</td>\n",
       "      <td>1</td>\n",
       "      <td>4</td>\n",
       "      <td>cellular</td>\n",
       "      <td>iPhone9,1</td>\n",
       "      <td>0</td>\n",
       "    </tr>\n",
       "    <tr>\n",
       "      <th>2</th>\n",
       "      <td>5c38815de8f4e50e256e4f9c</td>\n",
       "      <td>2019-01-11T11:43:25.168+00:00</td>\n",
       "      <td>59687f0d896a6b0e5ce6ea15</td>\n",
       "      <td>ios</td>\n",
       "      <td>12.1.2</td>\n",
       "      <td>1373094</td>\n",
       "      <td>US</td>\n",
       "      <td>27</td>\n",
       "      <td>26</td>\n",
       "      <td>0</td>\n",
       "      <td>0</td>\n",
       "      <td>2019-01-09T10:42:08.446+00:00</td>\n",
       "      <td>1</td>\n",
       "      <td>2</td>\n",
       "      <td>cellular</td>\n",
       "      <td>iPhone7,1</td>\n",
       "      <td>0</td>\n",
       "    </tr>\n",
       "    <tr>\n",
       "      <th>3</th>\n",
       "      <td>5c409ace532d5806d2c6a5e6</td>\n",
       "      <td>2019-01-17T15:10:06.420+00:00</td>\n",
       "      <td>59687f0d896a6b0e5ce6ea15</td>\n",
       "      <td>ios</td>\n",
       "      <td>12.1.2</td>\n",
       "      <td>1217749</td>\n",
       "      <td>US</td>\n",
       "      <td>15</td>\n",
       "      <td>14</td>\n",
       "      <td>2</td>\n",
       "      <td>0</td>\n",
       "      <td>2019-01-16T19:58:11.636+00:00</td>\n",
       "      <td>3</td>\n",
       "      <td>14</td>\n",
       "      <td>wifi</td>\n",
       "      <td>iPhone7,2</td>\n",
       "      <td>0</td>\n",
       "    </tr>\n",
       "    <tr>\n",
       "      <th>4</th>\n",
       "      <td>5c3904b92d798c41e7f3088a</td>\n",
       "      <td>2019-01-11T21:03:53.145+00:00</td>\n",
       "      <td>59687f0d896a6b0e5ce6ea15</td>\n",
       "      <td>ios</td>\n",
       "      <td>12.0.1</td>\n",
       "      <td>1373094</td>\n",
       "      <td>US</td>\n",
       "      <td>20</td>\n",
       "      <td>18</td>\n",
       "      <td>0</td>\n",
       "      <td>0</td>\n",
       "      <td>2019-01-11T21:03:05.103+00:00</td>\n",
       "      <td>13</td>\n",
       "      <td>18</td>\n",
       "      <td>cellular</td>\n",
       "      <td>iPhone8,1</td>\n",
       "      <td>0</td>\n",
       "    </tr>\n",
       "  </tbody>\n",
       "</table>\n",
       "</div>\n",
       "      <button class=\"colab-df-convert\" onclick=\"convertToInteractive('df-305ee5ce-7b53-4ff0-b13d-ef40ad10478b')\"\n",
       "              title=\"Convert this dataframe to an interactive table.\"\n",
       "              style=\"display:none;\">\n",
       "        \n",
       "  <svg xmlns=\"http://www.w3.org/2000/svg\" height=\"24px\"viewBox=\"0 0 24 24\"\n",
       "       width=\"24px\">\n",
       "    <path d=\"M0 0h24v24H0V0z\" fill=\"none\"/>\n",
       "    <path d=\"M18.56 5.44l.94 2.06.94-2.06 2.06-.94-2.06-.94-.94-2.06-.94 2.06-2.06.94zm-11 1L8.5 8.5l.94-2.06 2.06-.94-2.06-.94L8.5 2.5l-.94 2.06-2.06.94zm10 10l.94 2.06.94-2.06 2.06-.94-2.06-.94-.94-2.06-.94 2.06-2.06.94z\"/><path d=\"M17.41 7.96l-1.37-1.37c-.4-.4-.92-.59-1.43-.59-.52 0-1.04.2-1.43.59L10.3 9.45l-7.72 7.72c-.78.78-.78 2.05 0 2.83L4 21.41c.39.39.9.59 1.41.59.51 0 1.02-.2 1.41-.59l7.78-7.78 2.81-2.81c.8-.78.8-2.07 0-2.86zM5.41 20L4 18.59l7.72-7.72 1.47 1.35L5.41 20z\"/>\n",
       "  </svg>\n",
       "      </button>\n",
       "      \n",
       "  <style>\n",
       "    .colab-df-container {\n",
       "      display:flex;\n",
       "      flex-wrap:wrap;\n",
       "      gap: 12px;\n",
       "    }\n",
       "\n",
       "    .colab-df-convert {\n",
       "      background-color: #E8F0FE;\n",
       "      border: none;\n",
       "      border-radius: 50%;\n",
       "      cursor: pointer;\n",
       "      display: none;\n",
       "      fill: #1967D2;\n",
       "      height: 32px;\n",
       "      padding: 0 0 0 0;\n",
       "      width: 32px;\n",
       "    }\n",
       "\n",
       "    .colab-df-convert:hover {\n",
       "      background-color: #E2EBFA;\n",
       "      box-shadow: 0px 1px 2px rgba(60, 64, 67, 0.3), 0px 1px 3px 1px rgba(60, 64, 67, 0.15);\n",
       "      fill: #174EA6;\n",
       "    }\n",
       "\n",
       "    [theme=dark] .colab-df-convert {\n",
       "      background-color: #3B4455;\n",
       "      fill: #D2E3FC;\n",
       "    }\n",
       "\n",
       "    [theme=dark] .colab-df-convert:hover {\n",
       "      background-color: #434B5C;\n",
       "      box-shadow: 0px 1px 3px 1px rgba(0, 0, 0, 0.15);\n",
       "      filter: drop-shadow(0px 1px 2px rgba(0, 0, 0, 0.3));\n",
       "      fill: #FFFFFF;\n",
       "    }\n",
       "  </style>\n",
       "\n",
       "      <script>\n",
       "        const buttonEl =\n",
       "          document.querySelector('#df-305ee5ce-7b53-4ff0-b13d-ef40ad10478b button.colab-df-convert');\n",
       "        buttonEl.style.display =\n",
       "          google.colab.kernel.accessAllowed ? 'block' : 'none';\n",
       "\n",
       "        async function convertToInteractive(key) {\n",
       "          const element = document.querySelector('#df-305ee5ce-7b53-4ff0-b13d-ef40ad10478b');\n",
       "          const dataTable =\n",
       "            await google.colab.kernel.invokeFunction('convertToInteractive',\n",
       "                                                     [key], {});\n",
       "          if (!dataTable) return;\n",
       "\n",
       "          const docLinkHtml = 'Like what you see? Visit the ' +\n",
       "            '<a target=\"_blank\" href=https://colab.research.google.com/notebooks/data_table.ipynb>data table notebook</a>'\n",
       "            + ' to learn more about interactive tables.';\n",
       "          element.innerHTML = '';\n",
       "          dataTable['output_type'] = 'display_data';\n",
       "          await google.colab.output.renderOutput(dataTable, element);\n",
       "          const docLink = document.createElement('div');\n",
       "          docLink.innerHTML = docLinkHtml;\n",
       "          element.appendChild(docLink);\n",
       "        }\n",
       "      </script>\n",
       "    </div>\n",
       "  </div>\n",
       "  "
      ],
      "text/plain": [
       "                         id                      timestamp  \\\n",
       "0  5c36658fb58fad351175f0b6  2019-01-09T21:20:15.943+00:00   \n",
       "1  5c38d5ab1c16172870186b5a  2019-01-11T17:43:07.609+00:00   \n",
       "2  5c38815de8f4e50e256e4f9c  2019-01-11T11:43:25.168+00:00   \n",
       "3  5c409ace532d5806d2c6a5e6  2019-01-17T15:10:06.420+00:00   \n",
       "4  5c3904b92d798c41e7f3088a  2019-01-11T21:03:53.145+00:00   \n",
       "\n",
       "                 campaignId platform softwareVersion  sourceGameId country  \\\n",
       "0  59687f0d896a6b0e5ce6ea15      ios          11.4.1       1373094      US   \n",
       "1  59687f0d896a6b0e5ce6ea15      ios            12.1       2739989      US   \n",
       "2  59687f0d896a6b0e5ce6ea15      ios          12.1.2       1373094      US   \n",
       "3  59687f0d896a6b0e5ce6ea15      ios          12.1.2       1217749      US   \n",
       "4  59687f0d896a6b0e5ce6ea15      ios          12.0.1       1373094      US   \n",
       "\n",
       "   startCount  viewCount  clickCount  installCount  \\\n",
       "0          25         24           0             2   \n",
       "1          10          9           2             0   \n",
       "2          27         26           0             0   \n",
       "3          15         14           2             0   \n",
       "4          20         18           0             0   \n",
       "\n",
       "                       lastStart  startCount1d  startCount7d connectionType  \\\n",
       "0  2019-01-08T18:49:48.129+00:00             1             8       cellular   \n",
       "1  2019-01-09T21:20:22.855+00:00             1             4       cellular   \n",
       "2  2019-01-09T10:42:08.446+00:00             1             2       cellular   \n",
       "3  2019-01-16T19:58:11.636+00:00             3            14           wifi   \n",
       "4  2019-01-11T21:03:05.103+00:00            13            18       cellular   \n",
       "\n",
       "  deviceType  install  \n",
       "0  iPhone8,2        0  \n",
       "1  iPhone9,1        0  \n",
       "2  iPhone7,1        0  \n",
       "3  iPhone7,2        0  \n",
       "4  iPhone8,1        0  "
      ]
     },
     "execution_count": 4,
     "metadata": {},
     "output_type": "execute_result"
    }
   ],
   "source": [
    "train_df.head()"
   ]
  },
  {
   "cell_type": "markdown",
   "id": "t7caOwadpwNd",
   "metadata": {
    "id": "t7caOwadpwNd"
   },
   "source": [
    "### Some quick methods to filter out relevant features and understand the data better"
   ]
  },
  {
   "cell_type": "code",
   "execution_count": null,
   "id": "k5swRkXYIkTg",
   "metadata": {
    "colab": {
     "base_uri": "https://localhost:8080/"
    },
    "id": "k5swRkXYIkTg",
    "outputId": "92b5fcea-1622-41ef-a7f2-3417aae70462"
   },
   "outputs": [
    {
     "data": {
      "text/plain": [
       "iPhone8,1                                94879\n",
       "iPhone7,2                                84679\n",
       "iPhone9,3                                77608\n",
       "iPhone8,4                                43427\n",
       "iPhone9,4                                41597\n",
       "                                         ...  \n",
       "Xunity AuroraM                               1\n",
       "SUGAR SUGAR_2                                1\n",
       "intel w5                                     1\n",
       "rockchip S9                                  1\n",
       "xiaomi 红米1S联通4G版(TD - SCDMA)(2014813)        1\n",
       "Name: deviceType, Length: 28297, dtype: int64"
      ]
     },
     "execution_count": 5,
     "metadata": {},
     "output_type": "execute_result"
    }
   ],
   "source": [
    "train_df['deviceType'].value_counts() ### checking the different device types and their frequency in data."
   ]
  },
  {
   "cell_type": "code",
   "execution_count": null,
   "id": "I9b7iHOXdTdN",
   "metadata": {
    "colab": {
     "base_uri": "https://localhost:8080/"
    },
    "id": "I9b7iHOXdTdN",
    "outputId": "a13fad67-1672-4602-b5b7-298e23366c2c"
   },
   "outputs": [
    {
     "data": {
      "text/plain": [
       "8.0.0                    625296\n",
       "12.1.2                   503082\n",
       "8.1.0                    440687\n",
       "7.0                      402921\n",
       "6.0.1                    273603\n",
       "                          ...  \n",
       "Q                             1\n",
       "12.2                          1\n",
       "1.0                           1\n",
       "9.0.4                         1\n",
       "4.2.2-2013-11-18-v1.0         1\n",
       "Name: softwareVersion, Length: 195, dtype: int64"
      ]
     },
     "execution_count": 10,
     "metadata": {},
     "output_type": "execute_result"
    }
   ],
   "source": [
    "train_df['softwareVersion'].value_counts() ### checking the different software version and their frequency in data."
   ]
  },
  {
   "cell_type": "code",
   "execution_count": null,
   "id": "U4fcjtKwaaNu",
   "metadata": {
    "colab": {
     "base_uri": "https://localhost:8080/"
    },
    "id": "U4fcjtKwaaNu",
    "outputId": "2df33d60-68d9-4d76-f917-b3fd07dc8368"
   },
   "outputs": [
    {
     "data": {
      "text/plain": [
       "1580130      1.0\n",
       "1550064      1.0\n",
       "1374071      1.0\n",
       "1638903      1.0\n",
       "1272907      1.0\n",
       "            ... \n",
       "131627088    NaN\n",
       "131627269    NaN\n",
       "131627276    NaN\n",
       "131627313    NaN\n",
       "131627427    NaN\n",
       "Name: sourceGameId, Length: 34848, dtype: float64"
      ]
     },
     "execution_count": 20,
     "metadata": {},
     "output_type": "execute_result"
    }
   ],
   "source": [
    "a = train_df['sourceGameId'].value_counts()\n",
    "b = train_df[train_df['install'] == 1]['sourceGameId'].value_counts()\n",
    "c = b/a\n",
    "c.sort_values(ascending = False)"
   ]
  },
  {
   "cell_type": "code",
   "execution_count": null,
   "id": "AOlBxc3PbWOT",
   "metadata": {
    "colab": {
     "base_uri": "https://localhost:8080/",
     "height": 162
    },
    "id": "AOlBxc3PbWOT",
    "outputId": "7d62747c-b55f-4b2e-8a48-7355aa695b03"
   },
   "outputs": [
    {
     "data": {
      "text/html": [
       "\n",
       "  <div id=\"df-adfdaaf1-e9f5-441d-bd03-fde1489eee0e\">\n",
       "    <div class=\"colab-df-container\">\n",
       "      <div>\n",
       "<style scoped>\n",
       "    .dataframe tbody tr th:only-of-type {\n",
       "        vertical-align: middle;\n",
       "    }\n",
       "\n",
       "    .dataframe tbody tr th {\n",
       "        vertical-align: top;\n",
       "    }\n",
       "\n",
       "    .dataframe thead th {\n",
       "        text-align: right;\n",
       "    }\n",
       "</style>\n",
       "<table border=\"1\" class=\"dataframe\">\n",
       "  <thead>\n",
       "    <tr style=\"text-align: right;\">\n",
       "      <th></th>\n",
       "      <th>id</th>\n",
       "      <th>timestamp</th>\n",
       "      <th>campaignId</th>\n",
       "      <th>platform</th>\n",
       "      <th>softwareVersion</th>\n",
       "      <th>sourceGameId</th>\n",
       "      <th>country</th>\n",
       "      <th>startCount</th>\n",
       "      <th>viewCount</th>\n",
       "      <th>clickCount</th>\n",
       "      <th>installCount</th>\n",
       "      <th>lastStart</th>\n",
       "      <th>startCount1d</th>\n",
       "      <th>startCount7d</th>\n",
       "      <th>connectionType</th>\n",
       "      <th>deviceType</th>\n",
       "      <th>install</th>\n",
       "    </tr>\n",
       "  </thead>\n",
       "  <tbody>\n",
       "    <tr>\n",
       "      <th>980464</th>\n",
       "      <td>5c388cbef53b82003777a44d</td>\n",
       "      <td>2019-01-11T12:31:58.017+00:00</td>\n",
       "      <td>5c137ad235fb69000d7b0133</td>\n",
       "      <td>ios</td>\n",
       "      <td>12.1.2</td>\n",
       "      <td>1580130</td>\n",
       "      <td>JP</td>\n",
       "      <td>2</td>\n",
       "      <td>1</td>\n",
       "      <td>0</td>\n",
       "      <td>0</td>\n",
       "      <td>2019-01-11T08:17:36.522+00:00</td>\n",
       "      <td>2</td>\n",
       "      <td>2</td>\n",
       "      <td>cellular</td>\n",
       "      <td>iPhone10,1</td>\n",
       "      <td>1</td>\n",
       "    </tr>\n",
       "  </tbody>\n",
       "</table>\n",
       "</div>\n",
       "      <button class=\"colab-df-convert\" onclick=\"convertToInteractive('df-adfdaaf1-e9f5-441d-bd03-fde1489eee0e')\"\n",
       "              title=\"Convert this dataframe to an interactive table.\"\n",
       "              style=\"display:none;\">\n",
       "        \n",
       "  <svg xmlns=\"http://www.w3.org/2000/svg\" height=\"24px\"viewBox=\"0 0 24 24\"\n",
       "       width=\"24px\">\n",
       "    <path d=\"M0 0h24v24H0V0z\" fill=\"none\"/>\n",
       "    <path d=\"M18.56 5.44l.94 2.06.94-2.06 2.06-.94-2.06-.94-.94-2.06-.94 2.06-2.06.94zm-11 1L8.5 8.5l.94-2.06 2.06-.94-2.06-.94L8.5 2.5l-.94 2.06-2.06.94zm10 10l.94 2.06.94-2.06 2.06-.94-2.06-.94-.94-2.06-.94 2.06-2.06.94z\"/><path d=\"M17.41 7.96l-1.37-1.37c-.4-.4-.92-.59-1.43-.59-.52 0-1.04.2-1.43.59L10.3 9.45l-7.72 7.72c-.78.78-.78 2.05 0 2.83L4 21.41c.39.39.9.59 1.41.59.51 0 1.02-.2 1.41-.59l7.78-7.78 2.81-2.81c.8-.78.8-2.07 0-2.86zM5.41 20L4 18.59l7.72-7.72 1.47 1.35L5.41 20z\"/>\n",
       "  </svg>\n",
       "      </button>\n",
       "      \n",
       "  <style>\n",
       "    .colab-df-container {\n",
       "      display:flex;\n",
       "      flex-wrap:wrap;\n",
       "      gap: 12px;\n",
       "    }\n",
       "\n",
       "    .colab-df-convert {\n",
       "      background-color: #E8F0FE;\n",
       "      border: none;\n",
       "      border-radius: 50%;\n",
       "      cursor: pointer;\n",
       "      display: none;\n",
       "      fill: #1967D2;\n",
       "      height: 32px;\n",
       "      padding: 0 0 0 0;\n",
       "      width: 32px;\n",
       "    }\n",
       "\n",
       "    .colab-df-convert:hover {\n",
       "      background-color: #E2EBFA;\n",
       "      box-shadow: 0px 1px 2px rgba(60, 64, 67, 0.3), 0px 1px 3px 1px rgba(60, 64, 67, 0.15);\n",
       "      fill: #174EA6;\n",
       "    }\n",
       "\n",
       "    [theme=dark] .colab-df-convert {\n",
       "      background-color: #3B4455;\n",
       "      fill: #D2E3FC;\n",
       "    }\n",
       "\n",
       "    [theme=dark] .colab-df-convert:hover {\n",
       "      background-color: #434B5C;\n",
       "      box-shadow: 0px 1px 3px 1px rgba(0, 0, 0, 0.15);\n",
       "      filter: drop-shadow(0px 1px 2px rgba(0, 0, 0, 0.3));\n",
       "      fill: #FFFFFF;\n",
       "    }\n",
       "  </style>\n",
       "\n",
       "      <script>\n",
       "        const buttonEl =\n",
       "          document.querySelector('#df-adfdaaf1-e9f5-441d-bd03-fde1489eee0e button.colab-df-convert');\n",
       "        buttonEl.style.display =\n",
       "          google.colab.kernel.accessAllowed ? 'block' : 'none';\n",
       "\n",
       "        async function convertToInteractive(key) {\n",
       "          const element = document.querySelector('#df-adfdaaf1-e9f5-441d-bd03-fde1489eee0e');\n",
       "          const dataTable =\n",
       "            await google.colab.kernel.invokeFunction('convertToInteractive',\n",
       "                                                     [key], {});\n",
       "          if (!dataTable) return;\n",
       "\n",
       "          const docLinkHtml = 'Like what you see? Visit the ' +\n",
       "            '<a target=\"_blank\" href=https://colab.research.google.com/notebooks/data_table.ipynb>data table notebook</a>'\n",
       "            + ' to learn more about interactive tables.';\n",
       "          element.innerHTML = '';\n",
       "          dataTable['output_type'] = 'display_data';\n",
       "          await google.colab.output.renderOutput(dataTable, element);\n",
       "          const docLink = document.createElement('div');\n",
       "          docLink.innerHTML = docLinkHtml;\n",
       "          element.appendChild(docLink);\n",
       "        }\n",
       "      </script>\n",
       "    </div>\n",
       "  </div>\n",
       "  "
      ],
      "text/plain": [
       "                              id                      timestamp  \\\n",
       "980464  5c388cbef53b82003777a44d  2019-01-11T12:31:58.017+00:00   \n",
       "\n",
       "                      campaignId platform softwareVersion  sourceGameId  \\\n",
       "980464  5c137ad235fb69000d7b0133      ios          12.1.2       1580130   \n",
       "\n",
       "       country  startCount  viewCount  clickCount  installCount  \\\n",
       "980464      JP           2          1           0             0   \n",
       "\n",
       "                            lastStart  startCount1d  startCount7d  \\\n",
       "980464  2019-01-11T08:17:36.522+00:00             2             2   \n",
       "\n",
       "       connectionType  deviceType  install  \n",
       "980464       cellular  iPhone10,1        1  "
      ]
     },
     "execution_count": 21,
     "metadata": {},
     "output_type": "execute_result"
    }
   ],
   "source": [
    "train_df[train_df['sourceGameId'] == 1580130]"
   ]
  },
  {
   "cell_type": "markdown",
   "id": "jk8VGkM_mEJW",
   "metadata": {
    "id": "jk8VGkM_mEJW"
   },
   "source": [
    "checking whether campignId can be treated as a categorical feature"
   ]
  },
  {
   "cell_type": "code",
   "execution_count": null,
   "id": "DBDDxsqxb5Jy",
   "metadata": {
    "colab": {
     "base_uri": "https://localhost:8080/"
    },
    "id": "DBDDxsqxb5Jy",
    "outputId": "3aedea8b-c989-40a8-95ea-3ff5c3e1042d"
   },
   "outputs": [
    {
     "data": {
      "text/plain": [
       "9692"
      ]
     },
     "execution_count": 5,
     "metadata": {},
     "output_type": "execute_result"
    }
   ],
   "source": [
    "len(train_df['campaignId'].drop_duplicates())"
   ]
  },
  {
   "cell_type": "code",
   "execution_count": null,
   "id": "GXWw69_4b-n0",
   "metadata": {
    "colab": {
     "base_uri": "https://localhost:8080/"
    },
    "id": "GXWw69_4b-n0",
    "outputId": "67133c80-efce-4a18-8f14-a4db298595ec"
   },
   "outputs": [
    {
     "data": {
      "text/plain": [
       "3738763"
      ]
     },
     "execution_count": 7,
     "metadata": {},
     "output_type": "execute_result"
    }
   ],
   "source": [
    "len(train_df['campaignId'])"
   ]
  },
  {
   "cell_type": "code",
   "execution_count": null,
   "id": "SplGyrhCf2Yv",
   "metadata": {
    "colab": {
     "base_uri": "https://localhost:8080/"
    },
    "id": "SplGyrhCf2Yv",
    "outputId": "d2c19b9f-59bb-4b0c-8502-5bb5f3dfc003"
   },
   "outputs": [
    {
     "data": {
      "text/plain": [
       "5c3bfb0b36c2c6cc18710e7b    41740\n",
       "5c385d02ee4549000d8b9ddd    36861\n",
       "5c0f2ff2f4ee9d00225714c2    32856\n",
       "5afbea849f23a400284f2619    30284\n",
       "5c26db700f371292325680ec    28535\n",
       "                            ...  \n",
       "5c18f034d672b8001b03db71        1\n",
       "5bb1ee3d789d68c23b9cf5f1        1\n",
       "5c3326914a27eeeeaeaddadf        1\n",
       "5add2b9975e83e414c54b173        1\n",
       "5bf4d1d736da2687e1c61814        1\n",
       "Name: campaignId, Length: 9692, dtype: int64"
      ]
     },
     "execution_count": 8,
     "metadata": {},
     "output_type": "execute_result"
    }
   ],
   "source": [
    "train_df['campaignId'].value_counts()"
   ]
  },
  {
   "cell_type": "code",
   "execution_count": null,
   "id": "3jgzwaMkgDwM",
   "metadata": {
    "colab": {
     "base_uri": "https://localhost:8080/"
    },
    "id": "3jgzwaMkgDwM",
    "outputId": "86eaeea0-3e19-4e6a-bca0-2da0c1b3d702"
   },
   "outputs": [
    {
     "data": {
      "text/plain": [
       "5b9778f977f51928748943d0    1.0\n",
       "5b69661ef03209016e11c5e5    1.0\n",
       "5c3850b9abd7ce91678df270    1.0\n",
       "5a9be6ea3f98c037e2583b14    1.0\n",
       "5be7f1850aeed684d9797509    1.0\n",
       "                           ... \n",
       "5c45a142b6f24f09a8ed36fb    NaN\n",
       "5c45b72ee7ee85141f713077    NaN\n",
       "5c45c65fa7192c1bb1e0d641    NaN\n",
       "5c45cfc689ee5a002b8b6682    NaN\n",
       "5c45df74cc31520ac5704f6a    NaN\n",
       "Name: campaignId, Length: 9692, dtype: float64"
      ]
     },
     "execution_count": 9,
     "metadata": {},
     "output_type": "execute_result"
    }
   ],
   "source": [
    "a = train_df['campaignId'].value_counts()\n",
    "b = train_df[train_df['install'] == 1]['campaignId'].value_counts()\n",
    "c = b/a\n",
    "c.sort_values(ascending = False)"
   ]
  },
  {
   "cell_type": "markdown",
   "id": "UYBsHtRqmej5",
   "metadata": {
    "id": "UYBsHtRqmej5"
   },
   "source": [
    "checking whether sourceGameId can be treated as a categorical feature"
   ]
  },
  {
   "cell_type": "code",
   "execution_count": null,
   "id": "-RnkeDYoYikL",
   "metadata": {
    "colab": {
     "base_uri": "https://localhost:8080/"
    },
    "id": "-RnkeDYoYikL",
    "outputId": "68608213-3ec3-4c84-e54b-737bf9e2ba3f"
   },
   "outputs": [
    {
     "data": {
      "text/plain": [
       "34848"
      ]
     },
     "execution_count": 9,
     "metadata": {},
     "output_type": "execute_result"
    }
   ],
   "source": [
    "len(train_df['sourceGameId'].drop_duplicates())"
   ]
  },
  {
   "cell_type": "code",
   "execution_count": null,
   "id": "kBYpacIRYwDL",
   "metadata": {
    "colab": {
     "base_uri": "https://localhost:8080/"
    },
    "id": "kBYpacIRYwDL",
    "outputId": "1b8167da-5ded-41c7-9935-c8b12c4c2c0d"
   },
   "outputs": [
    {
     "data": {
      "text/plain": [
       "3738763"
      ]
     },
     "execution_count": 10,
     "metadata": {},
     "output_type": "execute_result"
    }
   ],
   "source": [
    "len(train_df['sourceGameId'])"
   ]
  },
  {
   "cell_type": "markdown",
   "id": "P_q9roZE0qqr",
   "metadata": {
    "id": "P_q9roZE0qqr"
   },
   "source": [
    "  "
   ]
  },
  {
   "cell_type": "markdown",
   "id": "MQA0aNl4uA9L",
   "metadata": {
    "id": "MQA0aNl4uA9L"
   },
   "source": [
    " From the data description and some quick analysis above following things are clear:\n",
    "\n",
    "1.   There are multiple variables so it would require extensive exploratory analysis\n",
    "2.  ```installCount``` and ```sourceGameId``` seems to be the most important features because it tells us about the installs.\n",
    "3. ```timestamp``` as a variable on its own contains a lot of information regarding the day, hour and week. Therefore creating a variable for different hour of day, different day of month and week can reveal some interesting information about the user's ad starting habits which might be useful to obtain the install probabilities. Further it seems that subtracting the ```lastStart``` may reveal something interesting behavioural information about the user.\n",
    "4. ```sourceGameId``` and ```campaignId``` reveal some interesting information when treated as categorical variables\n",
    "5. After the above analysis it is clear that a lot of information is contained within the categorical variables. Now of the three choices which are commonly used (i.e Label encoding,one hot encoding and embedding), embedding seems like a natural choice for the problem as some features contains a lot of class which could make the data sparse if I proceed with one-hot encoding.\n",
    "6. \n"
   ]
  },
  {
   "cell_type": "markdown",
   "id": "wz7PVYtQ0FRI",
   "metadata": {
    "id": "wz7PVYtQ0FRI"
   },
   "source": [
    "### Checking whether the target class is balanced or imbalanced"
   ]
  },
  {
   "cell_type": "code",
   "execution_count": null,
   "id": "s-t8rAtX0QVy",
   "metadata": {
    "colab": {
     "base_uri": "https://localhost:8080/",
     "height": 307
    },
    "id": "s-t8rAtX0QVy",
    "outputId": "7d0e0d57-2ed4-41b2-dcdd-b74e1e42d513"
   },
   "outputs": [
    {
     "data": {
      "text/plain": [
       "<matplotlib.axes._subplots.AxesSubplot at 0x7f30679acdd0>"
      ]
     },
     "execution_count": 25,
     "metadata": {},
     "output_type": "execute_result"
    },
    {
     "data": {
      "image/png": "[encoded data removed]",
      "text/plain": [
       "<Figure size 432x288 with 1 Axes>"
      ]
     },
     "metadata": {
      "needs_background": "light"
     },
     "output_type": "display_data"
    }
   ],
   "source": [
    "train_df.shape\n",
    "cor = train_df.corr()\n",
    "sns.countplot(x = 'install', data = train_df)"
   ]
  },
  {
   "cell_type": "markdown",
   "id": "UWpFj9lS9LYJ",
   "metadata": {
    "id": "UWpFj9lS9LYJ"
   },
   "source": [
    "From the plot above we can clearly see that the classes are highly imbalanced. Hence, the first ideas is to explore sampling and augmenting the class using oversampling. Now Synthetic minority oversampling technique(SMOTE) is a widely applied technique to deal with this kind of  problem. A significant advantage of SMOTE is that rather than just duplicating the records it samples from the minority class to create new datapoints. Therefore SMOTE is being employed to tackle the class imbalance problem. "
   ]
  },
  {
   "cell_type": "markdown",
   "id": "HrZhe-k7c_gz",
   "metadata": {
    "id": "HrZhe-k7c_gz"
   },
   "source": [
    "### Checking correlation between variables to remove redundant features by deriving new features"
   ]
  },
  {
   "cell_type": "code",
   "execution_count": null,
   "id": "J0HVRh2GsCLe",
   "metadata": {
    "colab": {
     "base_uri": "https://localhost:8080/",
     "height": 348
    },
    "id": "J0HVRh2GsCLe",
    "outputId": "12e8cf7d-1df8-4506-a878-6d9de593c980"
   },
   "outputs": [
    {
     "data": {
      "text/plain": [
       "<matplotlib.axes._subplots.AxesSubplot at 0x7f4a15dfa510>"
      ]
     },
     "execution_count": 20,
     "metadata": {},
     "output_type": "execute_result"
    },
    {
     "data": {
      "image/png": "[encoded data removed]",
      "text/plain": [
       "<Figure size 432x288 with 2 Axes>"
      ]
     },
     "metadata": {
      "needs_background": "light"
     },
     "output_type": "display_data"
    }
   ],
   "source": [
    "sns.heatmap(train_df.corr(),vmin=-1, vmax=1, center= 0, linewidths=1,annot = True)"
   ]
  },
  {
   "cell_type": "markdown",
   "id": "cOpfSpXWem04",
   "metadata": {
    "id": "cOpfSpXWem04"
   },
   "source": [
    "Following findings are obtained from the above plot:\n",
    "\n",
    "\n",
    "*   Variables which are highly correlated:\n",
    "  * ```viewCount``` and ```startCount```  - Both the variables tell us about different things, but the correlation between them probably points to the notion  that that whenever the user has started the campign, mostly that have viewed the whole campign. Hence Keeping one of them seems a plausible choice.\n",
    "  * ```startCount``` and ```startCount7d``` also show a significant correlation. Hence, ```startCount``` can be dropped.\n",
    "\n",
    "This may not be the case hence some testing will be performed to confirm such hypothesis.\n",
    "\n",
    "\n",
    "\n",
    "---\n",
    "\n"
   ]
  },
  {
   "cell_type": "markdown",
   "id": "zSj6kRgkDX0e",
   "metadata": {
    "id": "zSj6kRgkDX0e"
   },
   "source": [
    "Dealing with missing values by masking them as \"other\" for categorical data and creating new features from the timestamp to capture the information better and include them as a variable"
   ]
  },
  {
   "cell_type": "code",
   "execution_count": null,
   "id": "3dHZOdmz0qqr",
   "metadata": {
    "id": "3dHZOdmz0qqr"
   },
   "outputs": [],
   "source": [
    "# you may find useful:\n",
    "conv_date = lambda x: datetime.strptime(x.split(\".\")[0], \"%Y-%m-%dT%H:%M:%S\")\n",
    "train_df.timestamp = train_df.timestamp.apply(conv_date)\n",
    "test_df.timestamp = test_df.timestamp.apply(conv_date)\n",
    "\n",
    "train_df[\"country\"].mask(train_df[\"country\"].isna(), \"others\", inplace=True)\n",
    "test_df[\"country\"].mask(test_df[\"country\"].isna(), \"others\", inplace=True)\n",
    "\n",
    "train_df[\"deviceType\"].mask(train_df[\"deviceType\"].isna(), \"others\", inplace=True)\n",
    "test_df[\"deviceType\"].mask(test_df[\"deviceType\"].isna(), \"others\", inplace=True)\n",
    "\n",
    "#variables extracted from the timestamp feature\n",
    "train_df[\"day_of_month\"] = train_df.timestamp.apply(lambda x: x.day)\n",
    "train_df[\"day_of_week\"] = train_df.timestamp.apply(lambda x: x.weekday())\n",
    "train_df[\"hour_of_day\"] = train_df.timestamp.apply(lambda x: x.hour)\n",
    "test_df[\"day_of_month\"] = test_df.timestamp.apply(lambda x: x.day)\n",
    "test_df[\"day_of_week\"] = test_df.timestamp.apply(lambda x: x.weekday())\n",
    "test_df[\"hour_of_day\"] = test_df.timestamp.apply(lambda x: x.hour)\n",
    "\n",
    "# Time difference between the timstamp and last start \n",
    "train_df['timestamp'] = train_df['timestamp'].dt.tz_localize(None)\n",
    "train_df['lastStart'] = pd.to_datetime(train_df['lastStart']).dt.tz_localize(None)\n",
    "train_df['diff_btw_tstamp_lstart'] = train_df['timestamp'] - pd.to_datetime(train_df['lastStart'])\n",
    "test_df['timestamp'] = test_df['timestamp'].dt.tz_localize(None)\n",
    "test_df['lastStart'] = pd.to_datetime(test_df['lastStart']).dt.tz_localize(None)\n",
    "test_df['diff_btw_tstamp_lstart'] = test_df['timestamp'] - pd.to_datetime(test_df['lastStart'])\n"
   ]
  },
  {
   "cell_type": "markdown",
   "id": "VZ97SdeQA8Id",
   "metadata": {
    "id": "VZ97SdeQA8Id"
   },
   "source": [
    "### Preprocessing functions"
   ]
  },
  {
   "cell_type": "markdown",
   "id": "NdSR7zNKD5ps",
   "metadata": {
    "id": "NdSR7zNKD5ps"
   },
   "source": [
    "Segerating each of the feature types and defining the embedding criteria for the categorical data"
   ]
  },
  {
   "cell_type": "code",
   "execution_count": null,
   "id": "224XaqHTQkRM",
   "metadata": {
    "id": "224XaqHTQkRM"
   },
   "outputs": [],
   "source": [
    "output_feature = \"install\"\n",
    "\n",
    "cont_features = [\"viewCount\", \"clickCount\", \"installCount\",\n",
    "             \"sucess_count_1d\", \"sucess_count_7d\", \"diff_btw_tstamp_lstart\"]\n",
    "\n",
    "categorical_features = [\"campaignId\", \"platform\", \"sourceGameId\", \"country\",  \n",
    "             \"connectionType\",\"deviceType\", \"day_of_month\", \"day_of_week\",\n",
    "             \"hour_of_day\"]"
   ]
  },
  {
   "cell_type": "code",
   "execution_count": null,
   "id": "T-MZ4qbcqxBz",
   "metadata": {
    "id": "T-MZ4qbcqxBz"
   },
   "outputs": [],
   "source": [
    "cat_dims = [int(train_df[col].nunique()) for col in categorical_features]\n",
    "emb_dims = [(x, min(50, (x + 1) // 2)) for x in cat_dims]\n",
    "print(cat_dims)\n",
    "print(emb_dims)"
   ]
  },
  {
   "cell_type": "code",
   "execution_count": null,
   "id": "qKQRSWC6fQZW",
   "metadata": {
    "colab": {
     "base_uri": "https://localhost:8080/"
    },
    "id": "qKQRSWC6fQZW",
    "outputId": "d2c515e7-f439-451e-bc5d-1448ca5c9304"
   },
   "outputs": [
    {
     "name": "stdout",
     "output_type": "stream",
     "text": [
      "[9708, 2, 34696, 221, 3, 28297, 14, 7, 24]\n",
      "[(9708, 50), (2, 1), (34696, 50), (221, 50), (3, 2), (28297, 50), (14, 7), (7, 4), (24, 12)]\n"
     ]
    }
   ],
   "source": [
    "cat_dims_test = [int(test_df[col].nunique()) for col in categorical_features]\n",
    "emb_dims_test = [(x, min(50, (x + 1) // 2)) for x in cat_dims_test]\n",
    "print(cat_dims_test)\n",
    "print(emb_dims_test)"
   ]
  },
  {
   "cell_type": "markdown",
   "id": "DHvKZnKPbUnc",
   "metadata": {
    "id": "DHvKZnKPbUnc"
   },
   "source": [
    " The above cell show that test data and train data have different input categories for variables ```campaignId```, ```sourceGameId``` and ```deviceType``` but the input is predefined for embedding layer. Hence while making predictions on the test set I have divided the data into two parts to overcome this problem."
   ]
  },
  {
   "cell_type": "markdown",
   "id": "yKwTkcCMESxV",
   "metadata": {
    "id": "yKwTkcCMESxV"
   },
   "source": [
    "Instead of having redundant continous variables ```startCount```, ```startCount1d``` and ```startCount7d```. Two new features(```sucess_count_1d``` and ```sucess_count_7d'```) are created which display the ratio of the respective variable with ```startCount```. This allows us to capture the ```startCount``` and remove redundancy"
   ]
  },
  {
   "cell_type": "code",
   "execution_count": null,
   "id": "zdTN2uhDPDGG",
   "metadata": {
    "id": "zdTN2uhDPDGG"
   },
   "outputs": [],
   "source": [
    "def modify_count_col(data):\n",
    "    data['sucess_count_1d'] = data['startCount1d'] / data['startCount']\n",
    "    data['sucess_count_7d'] = data['startCount7d'] / data['startCount']\n",
    "    del data['startCount1d']\n",
    "    del data['startCount']\n",
    "    del data['startCount7d']\n",
    "    return data"
   ]
  },
  {
   "cell_type": "markdown",
   "id": "7vCvIVNGFcM_",
   "metadata": {
    "id": "7vCvIVNGFcM_"
   },
   "source": [
    "Label encoding of categorical data. \n",
    "\n",
    "This is done before passing the categorical data as input to the embedding layer"
   ]
  },
  {
   "cell_type": "code",
   "execution_count": null,
   "id": "m98JgxMLj01s",
   "metadata": {
    "id": "m98JgxMLj01s"
   },
   "outputs": [],
   "source": [
    "categorical_features = [\"campaignId\", \"platform\", \"sourceGameId\", \"country\",  \n",
    "             \"connectionType\",\"deviceType\", \"day_of_month\", \"day_of_week\",\n",
    "             \"hour_of_day\"]\n",
    "def lab_encode(data,categorical_features): ## Function for label encoding for categorical data\n",
    "    label_encoders = {}\n",
    "    for cat_col in categorical_features:\n",
    "        label_encoders[cat_col] = LabelEncoder()\n",
    "        data[cat_col] = label_encoders[cat_col].fit_transform(data[cat_col])\n",
    "    return data"
   ]
  },
  {
   "cell_type": "code",
   "execution_count": null,
   "id": "exISy4FrM5JM",
   "metadata": {
    "id": "exISy4FrM5JM"
   },
   "outputs": [],
   "source": [
    "def drop_irr_cols(data,columns):## function for dropping the columns which are not required.\n",
    "    data.drop(columns, axis = 1, inplace = True)\n",
    "    return data"
   ]
  },
  {
   "cell_type": "code",
   "execution_count": null,
   "id": "0HO788lxf1U-",
   "metadata": {
    "id": "0HO788lxf1U-"
   },
   "outputs": [],
   "source": [
    "### Scaling Function for scaling continous feature to alow the model to learn better\n",
    "\n",
    "cont_features = [\"viewCount\", \"clickCount\", \"installCount\",\n",
    "             \"sucess_count_1d\", \"sucess_count_7d\", \"diff_btw_tstamp_lstart\"]\n",
    "\n",
    "# Function for scaling the numerical features \n",
    "def Scale(data,scaler):\n",
    "    data[[\"sucess_count_1d\"]] = scaler.fit_transform(data[[\"sucess_count_1d\"]])\n",
    "    data['sucess_count_1d'].fillna(data['sucess_count_1d'].mean(), inplace=True)\n",
    "\n",
    "    data[[\"sucess_count_7d\"]] = scaler.fit_transform(data[[\"sucess_count_7d\"]])\n",
    "    data['sucess_count_7d'].fillna(data['sucess_count_7d'].mean(), inplace=True)\n",
    "\n",
    "    data[[\"viewCount\"]] = scaler.fit_transform(data[[\"viewCount\"]])\n",
    "    data['viewCount'].fillna(data['viewCount'].mean(), inplace=True)\n",
    "\n",
    "    data[[\"clickCount\"]] = scaler.fit_transform(data[[\"clickCount\"]])\n",
    "    data['clickCount'].fillna(data['clickCount'].mean(), inplace=True)\n",
    "\n",
    "    data[[\"installCount\"]] = scaler.fit_transform(data[[\"installCount\"]])\n",
    "    data['installCount'].fillna(data['installCount'].mean(), inplace=True)\n",
    "\n",
    "    data[[\"diff_btw_tstamp_lstart\"]] = scaler.fit_transform(data[[\"diff_btw_tstamp_lstart\"]])\n",
    "    data['diff_btw_tstamp_lstart'].fillna(data['diff_btw_tstamp_lstart'].mean(), inplace=True)\n",
    "\n",
    "    data.dropna(inplace=True)\n",
    "\n",
    "    return data"
   ]
  },
  {
   "cell_type": "code",
   "execution_count": null,
   "id": "L00IKEjBfepA",
   "metadata": {
    "id": "L00IKEjBfepA"
   },
   "outputs": [],
   "source": [
    "scaler = MinMaxScaler()"
   ]
  },
  {
   "cell_type": "code",
   "execution_count": null,
   "id": "08asHy-ug-vu",
   "metadata": {
    "id": "08asHy-ug-vu"
   },
   "outputs": [],
   "source": [
    "input_to_nn = train_df.copy()\n",
    "\n",
    "removed_cols = ['id','timestamp','softwareVersion','lastStart']\n",
    "input_to_nn = drop_irr_cols(input_to_nn, removed_cols)\n",
    "input_to_nn = lab_encode(input_to_nn,categorical_features)\n",
    "input_to_nn =  modify_count_col(input_to_nn)\n",
    "input_to_nn = Scale(input_to_nn, scaler)\n"
   ]
  },
  {
   "cell_type": "code",
   "execution_count": null,
   "id": "4UVMmZXtUcyH",
   "metadata": {
    "colab": {
     "base_uri": "https://localhost:8080/",
     "height": 270
    },
    "id": "4UVMmZXtUcyH",
    "outputId": "de17447c-1a43-44e2-b667-963fc24c81f9"
   },
   "outputs": [
    {
     "data": {
      "text/html": [
       "\n",
       "  <div id=\"df-ecee2485-2e40-4b0e-8520-04e442db31e6\">\n",
       "    <div class=\"colab-df-container\">\n",
       "      <div>\n",
       "<style scoped>\n",
       "    .dataframe tbody tr th:only-of-type {\n",
       "        vertical-align: middle;\n",
       "    }\n",
       "\n",
       "    .dataframe tbody tr th {\n",
       "        vertical-align: top;\n",
       "    }\n",
       "\n",
       "    .dataframe thead th {\n",
       "        text-align: right;\n",
       "    }\n",
       "</style>\n",
       "<table border=\"1\" class=\"dataframe\">\n",
       "  <thead>\n",
       "    <tr style=\"text-align: right;\">\n",
       "      <th></th>\n",
       "      <th>campaignId</th>\n",
       "      <th>platform</th>\n",
       "      <th>sourceGameId</th>\n",
       "      <th>country</th>\n",
       "      <th>viewCount</th>\n",
       "      <th>clickCount</th>\n",
       "      <th>installCount</th>\n",
       "      <th>connectionType</th>\n",
       "      <th>deviceType</th>\n",
       "      <th>install</th>\n",
       "      <th>day_of_month</th>\n",
       "      <th>day_of_week</th>\n",
       "      <th>hour_of_day</th>\n",
       "      <th>diff_btw_tstamp_lstart</th>\n",
       "      <th>sucess_count_1d</th>\n",
       "      <th>sucess_count_7d</th>\n",
       "    </tr>\n",
       "  </thead>\n",
       "  <tbody>\n",
       "    <tr>\n",
       "      <th>0</th>\n",
       "      <td>48</td>\n",
       "      <td>1</td>\n",
       "      <td>8393</td>\n",
       "      <td>204</td>\n",
       "      <td>0.008276</td>\n",
       "      <td>0.00000</td>\n",
       "      <td>0.027397</td>\n",
       "      <td>0</td>\n",
       "      <td>23359</td>\n",
       "      <td>0</td>\n",
       "      <td>1</td>\n",
       "      <td>2</td>\n",
       "      <td>21</td>\n",
       "      <td>0.999720</td>\n",
       "      <td>0.039730</td>\n",
       "      <td>0.319059</td>\n",
       "    </tr>\n",
       "    <tr>\n",
       "      <th>1</th>\n",
       "      <td>48</td>\n",
       "      <td>1</td>\n",
       "      <td>27454</td>\n",
       "      <td>204</td>\n",
       "      <td>0.003103</td>\n",
       "      <td>0.00194</td>\n",
       "      <td>0.000000</td>\n",
       "      <td>0</td>\n",
       "      <td>23361</td>\n",
       "      <td>0</td>\n",
       "      <td>3</td>\n",
       "      <td>4</td>\n",
       "      <td>17</td>\n",
       "      <td>0.999727</td>\n",
       "      <td>0.099747</td>\n",
       "      <td>0.399170</td>\n",
       "    </tr>\n",
       "    <tr>\n",
       "      <th>2</th>\n",
       "      <td>48</td>\n",
       "      <td>1</td>\n",
       "      <td>8393</td>\n",
       "      <td>204</td>\n",
       "      <td>0.008966</td>\n",
       "      <td>0.00000</td>\n",
       "      <td>0.000000</td>\n",
       "      <td>0</td>\n",
       "      <td>23355</td>\n",
       "      <td>0</td>\n",
       "      <td>3</td>\n",
       "      <td>4</td>\n",
       "      <td>11</td>\n",
       "      <td>0.999729</td>\n",
       "      <td>0.036766</td>\n",
       "      <td>0.072793</td>\n",
       "    </tr>\n",
       "    <tr>\n",
       "      <th>3</th>\n",
       "      <td>48</td>\n",
       "      <td>1</td>\n",
       "      <td>5426</td>\n",
       "      <td>204</td>\n",
       "      <td>0.004828</td>\n",
       "      <td>0.00194</td>\n",
       "      <td>0.000000</td>\n",
       "      <td>2</td>\n",
       "      <td>23356</td>\n",
       "      <td>0</td>\n",
       "      <td>9</td>\n",
       "      <td>3</td>\n",
       "      <td>15</td>\n",
       "      <td>0.999717</td>\n",
       "      <td>0.199775</td>\n",
       "      <td>0.933241</td>\n",
       "    </tr>\n",
       "    <tr>\n",
       "      <th>4</th>\n",
       "      <td>48</td>\n",
       "      <td>1</td>\n",
       "      <td>8393</td>\n",
       "      <td>204</td>\n",
       "      <td>0.006207</td>\n",
       "      <td>0.00000</td>\n",
       "      <td>0.000000</td>\n",
       "      <td>0</td>\n",
       "      <td>23358</td>\n",
       "      <td>0</td>\n",
       "      <td>3</td>\n",
       "      <td>4</td>\n",
       "      <td>21</td>\n",
       "      <td>0.999710</td>\n",
       "      <td>0.649902</td>\n",
       "      <td>0.899862</td>\n",
       "    </tr>\n",
       "  </tbody>\n",
       "</table>\n",
       "</div>\n",
       "      <button class=\"colab-df-convert\" onclick=\"convertToInteractive('df-ecee2485-2e40-4b0e-8520-04e442db31e6')\"\n",
       "              title=\"Convert this dataframe to an interactive table.\"\n",
       "              style=\"display:none;\">\n",
       "        \n",
       "  <svg xmlns=\"http://www.w3.org/2000/svg\" height=\"24px\"viewBox=\"0 0 24 24\"\n",
       "       width=\"24px\">\n",
       "    <path d=\"M0 0h24v24H0V0z\" fill=\"none\"/>\n",
       "    <path d=\"M18.56 5.44l.94 2.06.94-2.06 2.06-.94-2.06-.94-.94-2.06-.94 2.06-2.06.94zm-11 1L8.5 8.5l.94-2.06 2.06-.94-2.06-.94L8.5 2.5l-.94 2.06-2.06.94zm10 10l.94 2.06.94-2.06 2.06-.94-2.06-.94-.94-2.06-.94 2.06-2.06.94z\"/><path d=\"M17.41 7.96l-1.37-1.37c-.4-.4-.92-.59-1.43-.59-.52 0-1.04.2-1.43.59L10.3 9.45l-7.72 7.72c-.78.78-.78 2.05 0 2.83L4 21.41c.39.39.9.59 1.41.59.51 0 1.02-.2 1.41-.59l7.78-7.78 2.81-2.81c.8-.78.8-2.07 0-2.86zM5.41 20L4 18.59l7.72-7.72 1.47 1.35L5.41 20z\"/>\n",
       "  </svg>\n",
       "      </button>\n",
       "      \n",
       "  <style>\n",
       "    .colab-df-container {\n",
       "      display:flex;\n",
       "      flex-wrap:wrap;\n",
       "      gap: 12px;\n",
       "    }\n",
       "\n",
       "    .colab-df-convert {\n",
       "      background-color: #E8F0FE;\n",
       "      border: none;\n",
       "      border-radius: 50%;\n",
       "      cursor: pointer;\n",
       "      display: none;\n",
       "      fill: #1967D2;\n",
       "      height: 32px;\n",
       "      padding: 0 0 0 0;\n",
       "      width: 32px;\n",
       "    }\n",
       "\n",
       "    .colab-df-convert:hover {\n",
       "      background-color: #E2EBFA;\n",
       "      box-shadow: 0px 1px 2px rgba(60, 64, 67, 0.3), 0px 1px 3px 1px rgba(60, 64, 67, 0.15);\n",
       "      fill: #174EA6;\n",
       "    }\n",
       "\n",
       "    [theme=dark] .colab-df-convert {\n",
       "      background-color: #3B4455;\n",
       "      fill: #D2E3FC;\n",
       "    }\n",
       "\n",
       "    [theme=dark] .colab-df-convert:hover {\n",
       "      background-color: #434B5C;\n",
       "      box-shadow: 0px 1px 3px 1px rgba(0, 0, 0, 0.15);\n",
       "      filter: drop-shadow(0px 1px 2px rgba(0, 0, 0, 0.3));\n",
       "      fill: #FFFFFF;\n",
       "    }\n",
       "  </style>\n",
       "\n",
       "      <script>\n",
       "        const buttonEl =\n",
       "          document.querySelector('#df-ecee2485-2e40-4b0e-8520-04e442db31e6 button.colab-df-convert');\n",
       "        buttonEl.style.display =\n",
       "          google.colab.kernel.accessAllowed ? 'block' : 'none';\n",
       "\n",
       "        async function convertToInteractive(key) {\n",
       "          const element = document.querySelector('#df-ecee2485-2e40-4b0e-8520-04e442db31e6');\n",
       "          const dataTable =\n",
       "            await google.colab.kernel.invokeFunction('convertToInteractive',\n",
       "                                                     [key], {});\n",
       "          if (!dataTable) return;\n",
       "\n",
       "          const docLinkHtml = 'Like what you see? Visit the ' +\n",
       "            '<a target=\"_blank\" href=https://colab.research.google.com/notebooks/data_table.ipynb>data table notebook</a>'\n",
       "            + ' to learn more about interactive tables.';\n",
       "          element.innerHTML = '';\n",
       "          dataTable['output_type'] = 'display_data';\n",
       "          await google.colab.output.renderOutput(dataTable, element);\n",
       "          const docLink = document.createElement('div');\n",
       "          docLink.innerHTML = docLinkHtml;\n",
       "          element.appendChild(docLink);\n",
       "        }\n",
       "      </script>\n",
       "    </div>\n",
       "  </div>\n",
       "  "
      ],
      "text/plain": [
       "   campaignId  platform  sourceGameId  country  viewCount  clickCount  \\\n",
       "0          48         1          8393      204   0.008276     0.00000   \n",
       "1          48         1         27454      204   0.003103     0.00194   \n",
       "2          48         1          8393      204   0.008966     0.00000   \n",
       "3          48         1          5426      204   0.004828     0.00194   \n",
       "4          48         1          8393      204   0.006207     0.00000   \n",
       "\n",
       "   installCount  connectionType  deviceType  install  day_of_month  \\\n",
       "0      0.027397               0       23359        0             1   \n",
       "1      0.000000               0       23361        0             3   \n",
       "2      0.000000               0       23355        0             3   \n",
       "3      0.000000               2       23356        0             9   \n",
       "4      0.000000               0       23358        0             3   \n",
       "\n",
       "   day_of_week  hour_of_day  diff_btw_tstamp_lstart  sucess_count_1d  \\\n",
       "0            2           21                0.999720         0.039730   \n",
       "1            4           17                0.999727         0.099747   \n",
       "2            4           11                0.999729         0.036766   \n",
       "3            3           15                0.999717         0.199775   \n",
       "4            4           21                0.999710         0.649902   \n",
       "\n",
       "   sucess_count_7d  \n",
       "0         0.319059  \n",
       "1         0.399170  \n",
       "2         0.072793  \n",
       "3         0.933241  \n",
       "4         0.899862  "
      ]
     },
     "execution_count": 25,
     "metadata": {},
     "output_type": "execute_result"
    }
   ],
   "source": [
    "input_to_nn.head() ## Final features which are served as input to the embedding Tabular class"
   ]
  },
  {
   "cell_type": "code",
   "execution_count": null,
   "id": "5yzFku9CkJY0",
   "metadata": {
    "id": "5yzFku9CkJY0"
   },
   "outputs": [],
   "source": [
    "input_to_nn_X = input_to_nn.copy()\n",
    "input_to_nn_X.drop(['install'], axis = 1, inplace = True)\n",
    "input_to_nn_Y = input_to_nn['install']"
   ]
  },
  {
   "cell_type": "markdown",
   "id": "D_UZwpLcmktQ",
   "metadata": {
    "id": "D_UZwpLcmktQ"
   },
   "source": [
    "Applying oversampling and data augmentation technique SMOTE to balance the imbalanced classes"
   ]
  },
  {
   "cell_type": "code",
   "execution_count": null,
   "id": "67GkNx7KkrkT",
   "metadata": {
    "colab": {
     "base_uri": "https://localhost:8080/"
    },
    "id": "67GkNx7KkrkT",
    "outputId": "f81d1e42-1fa5-4992-aec1-9a9053b62e66"
   },
   "outputs": [
    {
     "name": "stdout",
     "output_type": "stream",
     "text": [
      "original dataset shape: Counter({0: 3694019, 1: 44744})\n",
      "Resample dataset shape Counter({0: 3694019, 1: 3694019})\n"
     ]
    }
   ],
   "source": [
    "over_sampler = SMOTE()\n",
    "\n",
    "X_temp, Y_temp = over_sampler.fit_resample(input_to_nn_X,input_to_nn_Y)\n",
    "print('original dataset shape:', Counter(input_to_nn_Y))\n",
    "print('Resample dataset shape', Counter(Y_temp))"
   ]
  },
  {
   "cell_type": "markdown",
   "id": "EKoNs2E5c8Cs",
   "metadata": {
    "id": "EKoNs2E5c8Cs"
   },
   "source": [
    "### Splitting the data into training and validation set.\n",
    "Please note that the data is served as input with the class label in the **tabular** class where it is segregated.\n",
    "\n",
    "---\n",
    "\n"
   ]
  },
  {
   "cell_type": "code",
   "execution_count": null,
   "id": "0VQc-wsGoOlo",
   "metadata": {
    "id": "0VQc-wsGoOlo"
   },
   "outputs": [],
   "source": [
    "X_train, X_val, Y_train, Y_val = train_test_split(X_temp, Y_temp, test_size=0.25)"
   ]
  },
  {
   "cell_type": "code",
   "execution_count": null,
   "id": "jeWGZs0wndTG",
   "metadata": {
    "id": "jeWGZs0wndTG"
   },
   "outputs": [],
   "source": [
    "X_train['install'] = Y_train "
   ]
  },
  {
   "cell_type": "code",
   "execution_count": null,
   "id": "Ckz-qVTioXuu",
   "metadata": {
    "colab": {
     "base_uri": "https://localhost:8080/",
     "height": 270
    },
    "id": "Ckz-qVTioXuu",
    "outputId": "713098b3-b6dc-46c9-8c46-51e11006be5c"
   },
   "outputs": [
    {
     "data": {
      "text/html": [
       "\n",
       "  <div id=\"df-dbb58bd4-716c-42b1-a68b-85e169a1d335\">\n",
       "    <div class=\"colab-df-container\">\n",
       "      <div>\n",
       "<style scoped>\n",
       "    .dataframe tbody tr th:only-of-type {\n",
       "        vertical-align: middle;\n",
       "    }\n",
       "\n",
       "    .dataframe tbody tr th {\n",
       "        vertical-align: top;\n",
       "    }\n",
       "\n",
       "    .dataframe thead th {\n",
       "        text-align: right;\n",
       "    }\n",
       "</style>\n",
       "<table border=\"1\" class=\"dataframe\">\n",
       "  <thead>\n",
       "    <tr style=\"text-align: right;\">\n",
       "      <th></th>\n",
       "      <th>campaignId</th>\n",
       "      <th>platform</th>\n",
       "      <th>sourceGameId</th>\n",
       "      <th>country</th>\n",
       "      <th>viewCount</th>\n",
       "      <th>clickCount</th>\n",
       "      <th>installCount</th>\n",
       "      <th>connectionType</th>\n",
       "      <th>deviceType</th>\n",
       "      <th>day_of_month</th>\n",
       "      <th>day_of_week</th>\n",
       "      <th>hour_of_day</th>\n",
       "      <th>diff_btw_tstamp_lstart</th>\n",
       "      <th>sucess_count_1d</th>\n",
       "      <th>sucess_count_7d</th>\n",
       "      <th>install</th>\n",
       "    </tr>\n",
       "  </thead>\n",
       "  <tbody>\n",
       "    <tr>\n",
       "      <th>3791851</th>\n",
       "      <td>4751</td>\n",
       "      <td>0</td>\n",
       "      <td>30966</td>\n",
       "      <td>102</td>\n",
       "      <td>0.006864</td>\n",
       "      <td>0.004083</td>\n",
       "      <td>0.000000</td>\n",
       "      <td>0</td>\n",
       "      <td>24100</td>\n",
       "      <td>12</td>\n",
       "      <td>4</td>\n",
       "      <td>8</td>\n",
       "      <td>0.999710</td>\n",
       "      <td>0.292865</td>\n",
       "      <td>0.317651</td>\n",
       "      <td>1</td>\n",
       "    </tr>\n",
       "    <tr>\n",
       "      <th>3893021</th>\n",
       "      <td>7722</td>\n",
       "      <td>0</td>\n",
       "      <td>24357</td>\n",
       "      <td>125</td>\n",
       "      <td>0.001514</td>\n",
       "      <td>0.001240</td>\n",
       "      <td>0.000000</td>\n",
       "      <td>0</td>\n",
       "      <td>236</td>\n",
       "      <td>5</td>\n",
       "      <td>1</td>\n",
       "      <td>13</td>\n",
       "      <td>0.999710</td>\n",
       "      <td>0.312764</td>\n",
       "      <td>0.565550</td>\n",
       "      <td>1</td>\n",
       "    </tr>\n",
       "    <tr>\n",
       "      <th>1581167</th>\n",
       "      <td>4811</td>\n",
       "      <td>0</td>\n",
       "      <td>30334</td>\n",
       "      <td>48</td>\n",
       "      <td>0.057586</td>\n",
       "      <td>0.013579</td>\n",
       "      <td>0.041096</td>\n",
       "      <td>2</td>\n",
       "      <td>26775</td>\n",
       "      <td>1</td>\n",
       "      <td>2</td>\n",
       "      <td>14</td>\n",
       "      <td>0.999710</td>\n",
       "      <td>0.118309</td>\n",
       "      <td>0.365102</td>\n",
       "      <td>0</td>\n",
       "    </tr>\n",
       "    <tr>\n",
       "      <th>7171720</th>\n",
       "      <td>7244</td>\n",
       "      <td>1</td>\n",
       "      <td>27703</td>\n",
       "      <td>97</td>\n",
       "      <td>0.006687</td>\n",
       "      <td>0.000916</td>\n",
       "      <td>0.000000</td>\n",
       "      <td>1</td>\n",
       "      <td>23337</td>\n",
       "      <td>5</td>\n",
       "      <td>0</td>\n",
       "      <td>0</td>\n",
       "      <td>0.999719</td>\n",
       "      <td>0.048085</td>\n",
       "      <td>0.299373</td>\n",
       "      <td>1</td>\n",
       "    </tr>\n",
       "    <tr>\n",
       "      <th>6489733</th>\n",
       "      <td>1006</td>\n",
       "      <td>0</td>\n",
       "      <td>34036</td>\n",
       "      <td>121</td>\n",
       "      <td>0.002982</td>\n",
       "      <td>0.000762</td>\n",
       "      <td>0.000000</td>\n",
       "      <td>1</td>\n",
       "      <td>24115</td>\n",
       "      <td>8</td>\n",
       "      <td>2</td>\n",
       "      <td>22</td>\n",
       "      <td>0.785878</td>\n",
       "      <td>0.790313</td>\n",
       "      <td>0.842562</td>\n",
       "      <td>1</td>\n",
       "    </tr>\n",
       "  </tbody>\n",
       "</table>\n",
       "</div>\n",
       "      <button class=\"colab-df-convert\" onclick=\"convertToInteractive('df-dbb58bd4-716c-42b1-a68b-85e169a1d335')\"\n",
       "              title=\"Convert this dataframe to an interactive table.\"\n",
       "              style=\"display:none;\">\n",
       "        \n",
       "  <svg xmlns=\"http://www.w3.org/2000/svg\" height=\"24px\"viewBox=\"0 0 24 24\"\n",
       "       width=\"24px\">\n",
       "    <path d=\"M0 0h24v24H0V0z\" fill=\"none\"/>\n",
       "    <path d=\"M18.56 5.44l.94 2.06.94-2.06 2.06-.94-2.06-.94-.94-2.06-.94 2.06-2.06.94zm-11 1L8.5 8.5l.94-2.06 2.06-.94-2.06-.94L8.5 2.5l-.94 2.06-2.06.94zm10 10l.94 2.06.94-2.06 2.06-.94-2.06-.94-.94-2.06-.94 2.06-2.06.94z\"/><path d=\"M17.41 7.96l-1.37-1.37c-.4-.4-.92-.59-1.43-.59-.52 0-1.04.2-1.43.59L10.3 9.45l-7.72 7.72c-.78.78-.78 2.05 0 2.83L4 21.41c.39.39.9.59 1.41.59.51 0 1.02-.2 1.41-.59l7.78-7.78 2.81-2.81c.8-.78.8-2.07 0-2.86zM5.41 20L4 18.59l7.72-7.72 1.47 1.35L5.41 20z\"/>\n",
       "  </svg>\n",
       "      </button>\n",
       "      \n",
       "  <style>\n",
       "    .colab-df-container {\n",
       "      display:flex;\n",
       "      flex-wrap:wrap;\n",
       "      gap: 12px;\n",
       "    }\n",
       "\n",
       "    .colab-df-convert {\n",
       "      background-color: #E8F0FE;\n",
       "      border: none;\n",
       "      border-radius: 50%;\n",
       "      cursor: pointer;\n",
       "      display: none;\n",
       "      fill: #1967D2;\n",
       "      height: 32px;\n",
       "      padding: 0 0 0 0;\n",
       "      width: 32px;\n",
       "    }\n",
       "\n",
       "    .colab-df-convert:hover {\n",
       "      background-color: #E2EBFA;\n",
       "      box-shadow: 0px 1px 2px rgba(60, 64, 67, 0.3), 0px 1px 3px 1px rgba(60, 64, 67, 0.15);\n",
       "      fill: #174EA6;\n",
       "    }\n",
       "\n",
       "    [theme=dark] .colab-df-convert {\n",
       "      background-color: #3B4455;\n",
       "      fill: #D2E3FC;\n",
       "    }\n",
       "\n",
       "    [theme=dark] .colab-df-convert:hover {\n",
       "      background-color: #434B5C;\n",
       "      box-shadow: 0px 1px 3px 1px rgba(0, 0, 0, 0.15);\n",
       "      filter: drop-shadow(0px 1px 2px rgba(0, 0, 0, 0.3));\n",
       "      fill: #FFFFFF;\n",
       "    }\n",
       "  </style>\n",
       "\n",
       "      <script>\n",
       "        const buttonEl =\n",
       "          document.querySelector('#df-dbb58bd4-716c-42b1-a68b-85e169a1d335 button.colab-df-convert');\n",
       "        buttonEl.style.display =\n",
       "          google.colab.kernel.accessAllowed ? 'block' : 'none';\n",
       "\n",
       "        async function convertToInteractive(key) {\n",
       "          const element = document.querySelector('#df-dbb58bd4-716c-42b1-a68b-85e169a1d335');\n",
       "          const dataTable =\n",
       "            await google.colab.kernel.invokeFunction('convertToInteractive',\n",
       "                                                     [key], {});\n",
       "          if (!dataTable) return;\n",
       "\n",
       "          const docLinkHtml = 'Like what you see? Visit the ' +\n",
       "            '<a target=\"_blank\" href=https://colab.research.google.com/notebooks/data_table.ipynb>data table notebook</a>'\n",
       "            + ' to learn more about interactive tables.';\n",
       "          element.innerHTML = '';\n",
       "          dataTable['output_type'] = 'display_data';\n",
       "          await google.colab.output.renderOutput(dataTable, element);\n",
       "          const docLink = document.createElement('div');\n",
       "          docLink.innerHTML = docLinkHtml;\n",
       "          element.appendChild(docLink);\n",
       "        }\n",
       "      </script>\n",
       "    </div>\n",
       "  </div>\n",
       "  "
      ],
      "text/plain": [
       "         campaignId  platform  sourceGameId  country  viewCount  clickCount  \\\n",
       "3791851        4751         0         30966      102   0.006864    0.004083   \n",
       "3893021        7722         0         24357      125   0.001514    0.001240   \n",
       "1581167        4811         0         30334       48   0.057586    0.013579   \n",
       "7171720        7244         1         27703       97   0.006687    0.000916   \n",
       "6489733        1006         0         34036      121   0.002982    0.000762   \n",
       "\n",
       "         installCount  connectionType  deviceType  day_of_month  day_of_week  \\\n",
       "3791851      0.000000               0       24100            12            4   \n",
       "3893021      0.000000               0         236             5            1   \n",
       "1581167      0.041096               2       26775             1            2   \n",
       "7171720      0.000000               1       23337             5            0   \n",
       "6489733      0.000000               1       24115             8            2   \n",
       "\n",
       "         hour_of_day  diff_btw_tstamp_lstart  sucess_count_1d  \\\n",
       "3791851            8                0.999710         0.292865   \n",
       "3893021           13                0.999710         0.312764   \n",
       "1581167           14                0.999710         0.118309   \n",
       "7171720            0                0.999719         0.048085   \n",
       "6489733           22                0.785878         0.790313   \n",
       "\n",
       "         sucess_count_7d  install  \n",
       "3791851         0.317651        1  \n",
       "3893021         0.565550        1  \n",
       "1581167         0.365102        0  \n",
       "7171720         0.299373        1  \n",
       "6489733         0.842562        1  "
      ]
     },
     "execution_count": 18,
     "metadata": {},
     "output_type": "execute_result"
    }
   ],
   "source": [
    "X_train.head()"
   ]
  },
  {
   "cell_type": "code",
   "execution_count": null,
   "id": "-E6R0dAm08rD",
   "metadata": {
    "id": "-E6R0dAm08rD"
   },
   "outputs": [],
   "source": [
    "class TabularDataset(Dataset):\n",
    "    def __init__(self, data, cat_cols=None, output_col=None):\n",
    "    \"\"\"\n",
    "    Characterizes a Dataset for PyTorch\n",
    "\n",
    "    Parameters\n",
    "    ----------\n",
    "\n",
    "    data: pandas data frame\n",
    "      The data frame object for the input data. It must\n",
    "      contain all the continuous, categorical and the\n",
    "      output columns to be used.\n",
    "\n",
    "    cat_cols: List of strings\n",
    "      The names of the categorical columns in the data.\n",
    "      These columns will be passed through the embedding\n",
    "      layers in the model. These columns must be\n",
    "      label encoded beforehand. \n",
    "\n",
    "    output_col: string\n",
    "      The name of the output variable column in the data\n",
    "      provided.\n",
    "    \"\"\"\n",
    "    self.n = data.shape[0]\n",
    "\n",
    "    if output_col:\n",
    "        self.y = data[output_col].astype(np.int64).values\n",
    "    else:\n",
    "        self.y =  np.zeros((self.n, 1))\n",
    "\n",
    "    self.cat_cols = cat_cols if cat_cols else []\n",
    "    self.cont_cols = [col for col in data.columns\n",
    "                      if col not in self.cat_cols + [output_col]]\n",
    "\n",
    "    if self.cont_cols:\n",
    "        self.cont_X = data[self.cont_cols].astype(np.float32).values\n",
    "    else:\n",
    "        self.cont_X = np.zeros((self.n, 1))\n",
    "\n",
    "    if self.cat_cols:\n",
    "        self.cat_X = data[cat_cols].astype(np.int64).values\n",
    "    else:\n",
    "        self.cat_X =  np.zeros((self.n, 1))\n",
    "\n",
    "    def __len__(self):\n",
    "    \"\"\"\n",
    "    Denotes the total number of samples.\n",
    "    \"\"\"\n",
    "    return self.n\n",
    "    \n",
    "    def __getitem__(self, idx):\n",
    "    \"\"\"\n",
    "    Generates one sample of data.\n",
    "    \"\"\"\n",
    "    return [self.y[idx], self.cont_X[idx], self.cat_X[idx]]"
   ]
  },
  {
   "cell_type": "code",
   "execution_count": null,
   "id": "AGKzjHLrV_TC",
   "metadata": {
    "id": "AGKzjHLrV_TC"
   },
   "outputs": [],
   "source": [
    "dataset = TabularDataset(data= X_train, cat_cols=categorical_features,\n",
    "                             output_col = output_feature)\n",
    "val_data = TabularDataset(data = X_val,cat_cols=categorical_features, output_col= None)"
   ]
  },
  {
   "cell_type": "markdown",
   "id": "cfFXh7pzKFAJ",
   "metadata": {
    "id": "cfFXh7pzKFAJ"
   },
   "source": [
    "### Model Description\n",
    "\n",
    "\n",
    "\n",
    "1.  The model is designed with keeping in mind that both numeric continous and categorical variables are to be fed as input to the network in order for the model to classify the data.\n",
    "\n",
    "2. Pytorch's tabular class is quite useful in this kind of problem. The inputs features are treated as seperate inputs to the according to their data type. Embedding is applied on the categorical data and then it is concatenated with the numerical features which then passes as input to the network. The dropout is also used after embedding in order to prevent overfitting.\n",
    "\n",
    "3. The network used in this case is particularly simple with two hidden layers with 64 and 128 units respectively.\n",
    "\n",
    "4. For each layer ReLu activation is applied after that batch normalization is performed then dropout is introduced.\n",
    "\n",
    "5. The dropout for embeding and the inputs are 0.04 and 0.001 and 0.01 respectively for each layer.\n",
    "\n",
    "5. Loss function used is BCEWithLogitLoss which allows us to remove the sigmoid layer at the end of network. Further specifications are standard usage of ADam optimizer with a learning rate of 0.001.\n",
    "\n",
    "6. The model is trained for 30 epochs with the configuration described above\n",
    "\n",
    "5. To conclude, most thought while designing the model was given to the data types while trying to keep the network as simple as possible. \n",
    "\n"
   ]
  },
  {
   "cell_type": "code",
   "execution_count": null,
   "id": "ul7caWvp0qqs",
   "metadata": {
    "id": "ul7caWvp0qqs"
   },
   "outputs": [],
   "source": [
    "class BinaryClassification(nn.Module):\n",
    "    def __init__(self,emb_dims,no_of_cont,output_size,lin_layer_sizes,emb_dropout,lin_layer_dropouts):\n",
    "        super(BinaryClassification, self).__init__()\n",
    "        self.emb_layers = nn.ModuleList([nn.Embedding(x, y)\n",
    "                                     for x, y in emb_dims])\n",
    "\n",
    "        no_of_embs = sum([y for x, y in emb_dims])\n",
    "        self.no_of_embs = no_of_embs\n",
    "        self.no_of_cont = no_of_cont\n",
    "\n",
    "        # Linear Layers\n",
    "        first_lin_layer = nn.Linear(self.no_of_embs + self.no_of_cont,\n",
    "                                    lin_layer_sizes[0])\n",
    "\n",
    "        self.lin_layers =\\\n",
    "        nn.ModuleList([first_lin_layer] +\\\n",
    "              [nn.Linear(lin_layer_sizes[i], lin_layer_sizes[i + 1])\n",
    "              for i in range(len(lin_layer_sizes) - 1)])\n",
    "        \n",
    "        for lin_layer in self.lin_layers:\n",
    "          nn.init.kaiming_normal_(lin_layer.weight.data)\n",
    "\n",
    "        # Output Layer\n",
    "        self.output_layer = nn.Linear(lin_layer_sizes[-1],\n",
    "                                      output_size)\n",
    "        nn.init.kaiming_normal_(self.output_layer.weight.data)\n",
    "\n",
    "        # Batch Norm Layers\n",
    "        self.first_bn_layer = nn.BatchNorm1d(self.no_of_cont)\n",
    "        self.bn_layers = nn.ModuleList([nn.BatchNorm1d(size)\n",
    "                                        for size in lin_layer_sizes])\n",
    "\n",
    "        # Dropout Layers\n",
    "        self.emb_dropout_layer = nn.Dropout(emb_dropout)\n",
    "        self.droput_layers = nn.ModuleList([nn.Dropout(size)\n",
    "                                      for size in lin_layer_dropouts])\n",
    "\n",
    "    def forward(self, cont_data, cat_data):\n",
    "\n",
    "      if self.no_of_embs != 0:\n",
    "        x = [emb_layer(cat_data[:, i])\n",
    "            for i,emb_layer in enumerate(self.emb_layers)]\n",
    "        x = torch.cat(x, 1)\n",
    "        x = self.emb_dropout_layer(x)\n",
    "\n",
    "      if self.no_of_cont != 0:\n",
    "        normalized_cont_data = self.first_bn_layer(cont_data)\n",
    "\n",
    "        if self.no_of_embs != 0:\n",
    "          x = torch.cat([x, normalized_cont_data], 1) \n",
    "        else:\n",
    "          x = normalized_cont_data\n",
    "\n",
    "      for lin_layer, dropout_layer, bn_layer in\\\n",
    "          zip(self.lin_layers, self.droput_layers, self.bn_layers):\n",
    "        \n",
    "        x = F.relu(lin_layer(x))\n",
    "        x = bn_layer(x)\n",
    "        x = dropout_layer(x)\n",
    "\n",
    "      x = self.output_layer(x)\n",
    "\n",
    "      return x"
   ]
  },
  {
   "cell_type": "code",
   "execution_count": null,
   "id": "qEAPW65GBWrm",
   "metadata": {
    "colab": {
     "base_uri": "https://localhost:8080/"
    },
    "id": "qEAPW65GBWrm",
    "outputId": "acb24360-63a2-48d5-ab62-57bf32741c54"
   },
   "outputs": [
    {
     "name": "stdout",
     "output_type": "stream",
     "text": [
      "cpu\n"
     ]
    }
   ],
   "source": [
    "#device = torch.device(\"cuda:0\" if torch.cuda.is_available() else \"cpu\")\n",
    "device = torch.device(\"cpu\")\n",
    "print(device)"
   ]
  },
  {
   "cell_type": "code",
   "execution_count": null,
   "id": "dLIT_MPvsPEl",
   "metadata": {
    "id": "dLIT_MPvsPEl"
   },
   "outputs": [],
   "source": [
    "emb_dims = [(9692, 50), (2, 1), (34848, 50), (221, 50), (3, 2), (28298, 50), (14, 7), (7, 4), (24, 12)]"
   ]
  },
  {
   "cell_type": "code",
   "execution_count": null,
   "id": "eQYa58R0-TKT",
   "metadata": {
    "colab": {
     "base_uri": "https://localhost:8080/"
    },
    "id": "eQYa58R0-TKT",
    "outputId": "f184118f-aea6-420b-c0d5-ba3db7b7b7e2"
   },
   "outputs": [
    {
     "data": {
      "text/plain": [
       "BinaryClassification(\n",
       "  (emb_layers): ModuleList(\n",
       "    (0): Embedding(9692, 50)\n",
       "    (1): Embedding(2, 1)\n",
       "    (2): Embedding(34848, 50)\n",
       "    (3): Embedding(221, 50)\n",
       "    (4): Embedding(3, 2)\n",
       "    (5): Embedding(28298, 50)\n",
       "    (6): Embedding(14, 7)\n",
       "    (7): Embedding(7, 4)\n",
       "    (8): Embedding(24, 12)\n",
       "  )\n",
       "  (lin_layers): ModuleList(\n",
       "    (0): Linear(in_features=232, out_features=64, bias=True)\n",
       "    (1): Linear(in_features=64, out_features=128, bias=True)\n",
       "  )\n",
       "  (output_layer): Linear(in_features=128, out_features=1, bias=True)\n",
       "  (first_bn_layer): BatchNorm1d(6, eps=1e-05, momentum=0.1, affine=True, track_running_stats=True)\n",
       "  (bn_layers): ModuleList(\n",
       "    (0): BatchNorm1d(64, eps=1e-05, momentum=0.1, affine=True, track_running_stats=True)\n",
       "    (1): BatchNorm1d(128, eps=1e-05, momentum=0.1, affine=True, track_running_stats=True)\n",
       "  )\n",
       "  (emb_dropout_layer): Dropout(p=0.04, inplace=False)\n",
       "  (droput_layers): ModuleList(\n",
       "    (0): Dropout(p=0.001, inplace=False)\n",
       "    (1): Dropout(p=0.01, inplace=False)\n",
       "  )\n",
       ")"
      ]
     },
     "execution_count": 28,
     "metadata": {},
     "output_type": "execute_result"
    }
   ],
   "source": [
    "model = BinaryClassification(emb_dims, no_of_cont=6, lin_layer_sizes=[64,128],\n",
    "                          output_size=1, emb_dropout=0.04,\n",
    "                          lin_layer_dropouts=[0.001,0.01])\n",
    "model.to(device)"
   ]
  },
  {
   "cell_type": "code",
   "execution_count": null,
   "id": "8dbRcyvr--XW",
   "metadata": {
    "id": "8dbRcyvr--XW"
   },
   "outputs": [],
   "source": [
    "def accuracy_fn(y_pred, y_test): ## function for checking the accuracy\n",
    "  y_pred_tag = torch.round(torch.sigmoid(y_pred))\n",
    "\n",
    "  correct_results_sum = (y_pred_tag == y_test).sum().float()\n",
    "  acc = correct_results_sum/y_test.shape[0]\n",
    "  acc = torch.round(acc * 100)\n",
    "  \n",
    "  return acc"
   ]
  },
  {
   "cell_type": "code",
   "execution_count": null,
   "id": "aT7xx33N_x7a",
   "metadata": {
    "id": "aT7xx33N_x7a"
   },
   "outputs": [],
   "source": [
    "train_loader = DataLoader(dataset=dataset, batch_size= 256, shuffle=True)"
   ]
  },
  {
   "cell_type": "code",
   "execution_count": null,
   "id": "Mk3_aJR5frf7",
   "metadata": {
    "id": "Mk3_aJR5frf7"
   },
   "outputs": [],
   "source": [
    "val_loader = DataLoader(dataset=val_data, batch_size= len(val_data))"
   ]
  },
  {
   "cell_type": "code",
   "execution_count": null,
   "id": "_OEXL769BuS8",
   "metadata": {
    "id": "_OEXL769BuS8"
   },
   "outputs": [],
   "source": [
    "model.zero_grad()\n",
    "lossFunc = nn.BCEWithLogitsLoss()\n",
    "optimizer = optim.Adam(model.parameters(), lr = 0.001)\n",
    "LOSS = []\n",
    "for i in range(30):\n",
    "    l_loss =[]\n",
    "    epoch_acc = 0\n",
    "    model.train()\n",
    "    for y, cont_x, cat_x in train_loader:\n",
    "    optimizer.zero_grad()\n",
    "    y, cont_x,cat_x = y.to(device), cont_x.to(device),cat_x.to(device)\n",
    "\n",
    "    y_pred = model(cont_x,cat_x)\n",
    "\n",
    "    loss = lossFunc(y_pred,y.unsqueeze(1).float())\n",
    "    acc = accuracy_fn(y_pred, y.unsqueeze(1).float())\n",
    "    l_loss.append(loss.item())\n",
    "    loss.backward()\n",
    "    optimizer.step()\n",
    "\n",
    "    epoch_acc += acc.item()\n",
    "\n",
    "    LOSS.append(np.mean(l_loss))\n",
    "    print(i,':',LOSS[-1])\n",
    "    print(f'Acc: {epoch_acc/len(train_loader):.3f}')\n"
   ]
  },
  {
   "cell_type": "code",
   "execution_count": null,
   "id": "Dv-DE7UmDYty",
   "metadata": {
    "id": "Dv-DE7UmDYty"
   },
   "outputs": [],
   "source": [
    "torch.save(model.state_dict(),\"model.pt\")"
   ]
  },
  {
   "cell_type": "code",
   "execution_count": null,
   "id": "yWGdWgkof97d",
   "metadata": {
    "colab": {
     "base_uri": "https://localhost:8080/"
    },
    "id": "yWGdWgkof97d",
    "outputId": "7b49c8a1-24b0-42f0-a7dc-0c2db5454979"
   },
   "outputs": [
    {
     "data": {
      "text/plain": [
       "<All keys matched successfully>"
      ]
     },
     "execution_count": 30,
     "metadata": {},
     "output_type": "execute_result"
    }
   ],
   "source": [
    "model.load_state_dict(torch.load(\"model.pt\",map_location=device))"
   ]
  },
  {
   "cell_type": "markdown",
   "id": "6w72QxP2UO3q",
   "metadata": {
    "id": "6w72QxP2UO3q"
   },
   "source": [
    "### Evaluation methodology\n",
    "\n",
    "\n",
    "1. After preprocessing the training data was divided into seperate train and validation set.\n",
    "\n",
    "2.  Most importance is given to the F1-score on validation set as it provides a great estimate of the model's predictive ability and senstivity.\n",
    "\n",
    "3. After training multiple version of the model it was found that model performs best when the embedding approach is used. Features such as  ```softwareVersion``` did not improve the F1 score much hence they have been dropped.\n",
    "\n",
    "4. Initially, i believe that the model was overfitting but the F1 score on validation set is 0.99 which justifies that the model is indeed performing well.\n",
    "\n",
    "5. Further the confusion matrix plotted reveals that the model has mostly classified all the examples correctly on the validation set.\n",
    "\n",
    "## Potential Improvements:\n",
    "1. A thresholding mechanism can be deployed which classifies the the datapoint as install or not based on the probability\n"
   ]
  },
  {
   "cell_type": "code",
   "execution_count": null,
   "id": "5jjMS-bt0qqt",
   "metadata": {
    "id": "5jjMS-bt0qqt"
   },
   "outputs": [],
   "source": [
    "# Your code starts here\n",
    "y_pred_list = []\n",
    "model.eval()\n",
    "with torch.no_grad():\n",
    "    for x in val_loader :\n",
    "        vy, vcont, vcat = x \n",
    "        y, cont_x,cat_x = vy.to(device), vcont.to(device),vcat.to(device) \n",
    "        y_test_pred = model(cont_x,cat_x)\n",
    "        y_test_pred = torch.sigmoid(y_test_pred)\n",
    "        y_pred_tag = torch.round(y_test_pred)\n",
    "        y_pred_list.append(y_pred_tag.cpu().numpy())\n",
    "\n",
    "y_pred_list = [a.squeeze().tolist() for a in y_pred_list]"
   ]
  },
  {
   "cell_type": "code",
   "execution_count": null,
   "id": "4GtVgk5d2_vy",
   "metadata": {
    "id": "4GtVgk5d2_vy"
   },
   "outputs": [],
   "source": [
    "final_pred_validation = []\n",
    "for sub_list in y_pred_list[0]:\n",
    "    final_pred_validation.append(sub_list)"
   ]
  },
  {
   "cell_type": "code",
   "execution_count": null,
   "id": "TrxdBUTD3LLP",
   "metadata": {
    "colab": {
     "base_uri": "https://localhost:8080/",
     "height": 282
    },
    "id": "TrxdBUTD3LLP",
    "outputId": "742655df-19ee-4dcd-f8ca-fb282c8c6f2f"
   },
   "outputs": [
    {
     "data": {
      "text/plain": [
       "<matplotlib.axes._subplots.AxesSubplot at 0x7f1a7e63b590>"
      ]
     },
     "execution_count": 43,
     "metadata": {},
     "output_type": "execute_result"
    },
    {
     "data": {
      "image/png": "[encoded data removed]",
      "text/plain": [
       "<Figure size 432x288 with 2 Axes>"
      ]
     },
     "metadata": {
      "needs_background": "light"
     },
     "output_type": "display_data"
    }
   ],
   "source": [
    "c_mat = confusion_matrix(Y_val,final_pred_validation)\n",
    "labels = ['True Neg','False Pos','False Neg','True Pos']\n",
    "labels = np.asarray(labels).reshape(2,2)\n",
    "\n",
    "categories = ['Zero', 'One']\n",
    "sns.heatmap(c_mat, annot=labels, fmt='', cmap='Blues')\n",
    "                      "
   ]
  },
  {
   "cell_type": "code",
   "execution_count": null,
   "id": "qD5Ruud7iqXp",
   "metadata": {
    "colab": {
     "base_uri": "https://localhost:8080/"
    },
    "id": "qD5Ruud7iqXp",
    "outputId": "f0d5d511-f598-45fe-f440-e2eac2967601"
   },
   "outputs": [
    {
     "name": "stdout",
     "output_type": "stream",
     "text": [
      "              precision    recall  f1-score   support\n",
      "\n",
      "           0       0.98      0.99      0.99    922359\n",
      "           1       0.99      0.98      0.99    924651\n",
      "\n",
      "    accuracy                           0.99   1847010\n",
      "   macro avg       0.99      0.99      0.99   1847010\n",
      "weighted avg       0.99      0.99      0.99   1847010\n",
      "\n"
     ]
    }
   ],
   "source": [
    "print(classification_report(Y_val, final_pred_validation))"
   ]
  },
  {
   "cell_type": "markdown",
   "id": "2PjPbqwk0qqu",
   "metadata": {
    "id": "2PjPbqwk0qqu"
   },
   "source": [
    "Predicting install probabilities for the test data\n",
    "\n"
   ]
  },
  {
   "cell_type": "code",
   "execution_count": null,
   "id": "sDtMg2MQhPEA",
   "metadata": {
    "colab": {
     "base_uri": "https://localhost:8080/",
     "height": 374
    },
    "id": "sDtMg2MQhPEA",
    "outputId": "f9a6699f-3031-4c9b-e030-da1ea4773086"
   },
   "outputs": [
    {
     "data": {
      "text/html": [
       "\n",
       "  <div id=\"df-f7e96587-8c94-4b48-b74b-989c7d343a3c\">\n",
       "    <div class=\"colab-df-container\">\n",
       "      <div>\n",
       "<style scoped>\n",
       "    .dataframe tbody tr th:only-of-type {\n",
       "        vertical-align: middle;\n",
       "    }\n",
       "\n",
       "    .dataframe tbody tr th {\n",
       "        vertical-align: top;\n",
       "    }\n",
       "\n",
       "    .dataframe thead th {\n",
       "        text-align: right;\n",
       "    }\n",
       "</style>\n",
       "<table border=\"1\" class=\"dataframe\">\n",
       "  <thead>\n",
       "    <tr style=\"text-align: right;\">\n",
       "      <th></th>\n",
       "      <th>id</th>\n",
       "      <th>timestamp</th>\n",
       "      <th>campaignId</th>\n",
       "      <th>platform</th>\n",
       "      <th>softwareVersion</th>\n",
       "      <th>sourceGameId</th>\n",
       "      <th>country</th>\n",
       "      <th>startCount</th>\n",
       "      <th>viewCount</th>\n",
       "      <th>clickCount</th>\n",
       "      <th>installCount</th>\n",
       "      <th>lastStart</th>\n",
       "      <th>startCount1d</th>\n",
       "      <th>startCount7d</th>\n",
       "      <th>connectionType</th>\n",
       "      <th>deviceType</th>\n",
       "      <th>day_of_month</th>\n",
       "      <th>day_of_week</th>\n",
       "      <th>hour_of_day</th>\n",
       "      <th>diff_btw_tstamp_lstart</th>\n",
       "    </tr>\n",
       "  </thead>\n",
       "  <tbody>\n",
       "    <tr>\n",
       "      <th>0</th>\n",
       "      <td>5c4609b6eb7476266130c224</td>\n",
       "      <td>2019-01-21 18:04:38</td>\n",
       "      <td>598c1d93ca9cf7103cf61dcc</td>\n",
       "      <td>android</td>\n",
       "      <td>4.4.2</td>\n",
       "      <td>1515907</td>\n",
       "      <td>RU</td>\n",
       "      <td>6</td>\n",
       "      <td>5</td>\n",
       "      <td>0</td>\n",
       "      <td>0</td>\n",
       "      <td>2019-01-21 17:58:23.728</td>\n",
       "      <td>6</td>\n",
       "      <td>6</td>\n",
       "      <td>wifi</td>\n",
       "      <td>LENOVO Lenovo A536</td>\n",
       "      <td>21</td>\n",
       "      <td>0</td>\n",
       "      <td>18</td>\n",
       "      <td>12 days 23:14:49.871000</td>\n",
       "    </tr>\n",
       "    <tr>\n",
       "      <th>1</th>\n",
       "      <td>5c454de3a21d3edde84568d9</td>\n",
       "      <td>2019-01-21 04:43:15</td>\n",
       "      <td>598c1d93ca9cf7103cf61dcc</td>\n",
       "      <td>android</td>\n",
       "      <td>5.1</td>\n",
       "      <td>2724746</td>\n",
       "      <td>MY</td>\n",
       "      <td>1</td>\n",
       "      <td>0</td>\n",
       "      <td>0</td>\n",
       "      <td>1</td>\n",
       "      <td>NaT</td>\n",
       "      <td>1</td>\n",
       "      <td>1</td>\n",
       "      <td>cellular</td>\n",
       "      <td>HUAWEI HUAWEI LUA-U22</td>\n",
       "      <td>21</td>\n",
       "      <td>0</td>\n",
       "      <td>4</td>\n",
       "      <td>11 days 07:22:52.145000</td>\n",
       "    </tr>\n",
       "    <tr>\n",
       "      <th>2</th>\n",
       "      <td>5c3c4f5769db2eee0c345059</td>\n",
       "      <td>2019-01-14 08:59:03</td>\n",
       "      <td>598c1d93ca9cf7103cf61dcc</td>\n",
       "      <td>android</td>\n",
       "      <td>4.4.4</td>\n",
       "      <td>78130</td>\n",
       "      <td>TR</td>\n",
       "      <td>49</td>\n",
       "      <td>29</td>\n",
       "      <td>4</td>\n",
       "      <td>1</td>\n",
       "      <td>2019-01-14 08:56:10.539</td>\n",
       "      <td>4</td>\n",
       "      <td>17</td>\n",
       "      <td>wifi</td>\n",
       "      <td>samsung SM-T113</td>\n",
       "      <td>14</td>\n",
       "      <td>0</td>\n",
       "      <td>8</td>\n",
       "      <td>4 days 22:16:54.554000</td>\n",
       "    </tr>\n",
       "    <tr>\n",
       "      <th>3</th>\n",
       "      <td>5c4476bdf81acd685863a34f</td>\n",
       "      <td>2019-01-20 13:25:17</td>\n",
       "      <td>598c1d93ca9cf7103cf61dcc</td>\n",
       "      <td>android</td>\n",
       "      <td>4.4.4</td>\n",
       "      <td>1261034</td>\n",
       "      <td>TR</td>\n",
       "      <td>1</td>\n",
       "      <td>0</td>\n",
       "      <td>0</td>\n",
       "      <td>1</td>\n",
       "      <td>NaT</td>\n",
       "      <td>1</td>\n",
       "      <td>1</td>\n",
       "      <td>wifi</td>\n",
       "      <td>samsung SM-T113</td>\n",
       "      <td>20</td>\n",
       "      <td>6</td>\n",
       "      <td>13</td>\n",
       "      <td>3 days 17:27:05.364000</td>\n",
       "    </tr>\n",
       "    <tr>\n",
       "      <th>4</th>\n",
       "      <td>5c456954b7d257ead2f99568</td>\n",
       "      <td>2019-01-21 06:40:20</td>\n",
       "      <td>598c1d93ca9cf7103cf61dcc</td>\n",
       "      <td>android</td>\n",
       "      <td>5.1</td>\n",
       "      <td>1617990</td>\n",
       "      <td>MY</td>\n",
       "      <td>7</td>\n",
       "      <td>4</td>\n",
       "      <td>0</td>\n",
       "      <td>1</td>\n",
       "      <td>2019-01-21 06:38:38.298</td>\n",
       "      <td>3</td>\n",
       "      <td>7</td>\n",
       "      <td>cellular</td>\n",
       "      <td>OPPO X9009</td>\n",
       "      <td>21</td>\n",
       "      <td>0</td>\n",
       "      <td>6</td>\n",
       "      <td>9 days 09:37:14.897000</td>\n",
       "    </tr>\n",
       "  </tbody>\n",
       "</table>\n",
       "</div>\n",
       "      <button class=\"colab-df-convert\" onclick=\"convertToInteractive('df-f7e96587-8c94-4b48-b74b-989c7d343a3c')\"\n",
       "              title=\"Convert this dataframe to an interactive table.\"\n",
       "              style=\"display:none;\">\n",
       "        \n",
       "  <svg xmlns=\"http://www.w3.org/2000/svg\" height=\"24px\"viewBox=\"0 0 24 24\"\n",
       "       width=\"24px\">\n",
       "    <path d=\"M0 0h24v24H0V0z\" fill=\"none\"/>\n",
       "    <path d=\"M18.56 5.44l.94 2.06.94-2.06 2.06-.94-2.06-.94-.94-2.06-.94 2.06-2.06.94zm-11 1L8.5 8.5l.94-2.06 2.06-.94-2.06-.94L8.5 2.5l-.94 2.06-2.06.94zm10 10l.94 2.06.94-2.06 2.06-.94-2.06-.94-.94-2.06-.94 2.06-2.06.94z\"/><path d=\"M17.41 7.96l-1.37-1.37c-.4-.4-.92-.59-1.43-.59-.52 0-1.04.2-1.43.59L10.3 9.45l-7.72 7.72c-.78.78-.78 2.05 0 2.83L4 21.41c.39.39.9.59 1.41.59.51 0 1.02-.2 1.41-.59l7.78-7.78 2.81-2.81c.8-.78.8-2.07 0-2.86zM5.41 20L4 18.59l7.72-7.72 1.47 1.35L5.41 20z\"/>\n",
       "  </svg>\n",
       "      </button>\n",
       "      \n",
       "  <style>\n",
       "    .colab-df-container {\n",
       "      display:flex;\n",
       "      flex-wrap:wrap;\n",
       "      gap: 12px;\n",
       "    }\n",
       "\n",
       "    .colab-df-convert {\n",
       "      background-color: #E8F0FE;\n",
       "      border: none;\n",
       "      border-radius: 50%;\n",
       "      cursor: pointer;\n",
       "      display: none;\n",
       "      fill: #1967D2;\n",
       "      height: 32px;\n",
       "      padding: 0 0 0 0;\n",
       "      width: 32px;\n",
       "    }\n",
       "\n",
       "    .colab-df-convert:hover {\n",
       "      background-color: #E2EBFA;\n",
       "      box-shadow: 0px 1px 2px rgba(60, 64, 67, 0.3), 0px 1px 3px 1px rgba(60, 64, 67, 0.15);\n",
       "      fill: #174EA6;\n",
       "    }\n",
       "\n",
       "    [theme=dark] .colab-df-convert {\n",
       "      background-color: #3B4455;\n",
       "      fill: #D2E3FC;\n",
       "    }\n",
       "\n",
       "    [theme=dark] .colab-df-convert:hover {\n",
       "      background-color: #434B5C;\n",
       "      box-shadow: 0px 1px 3px 1px rgba(0, 0, 0, 0.15);\n",
       "      filter: drop-shadow(0px 1px 2px rgba(0, 0, 0, 0.3));\n",
       "      fill: #FFFFFF;\n",
       "    }\n",
       "  </style>\n",
       "\n",
       "      <script>\n",
       "        const buttonEl =\n",
       "          document.querySelector('#df-f7e96587-8c94-4b48-b74b-989c7d343a3c button.colab-df-convert');\n",
       "        buttonEl.style.display =\n",
       "          google.colab.kernel.accessAllowed ? 'block' : 'none';\n",
       "\n",
       "        async function convertToInteractive(key) {\n",
       "          const element = document.querySelector('#df-f7e96587-8c94-4b48-b74b-989c7d343a3c');\n",
       "          const dataTable =\n",
       "            await google.colab.kernel.invokeFunction('convertToInteractive',\n",
       "                                                     [key], {});\n",
       "          if (!dataTable) return;\n",
       "\n",
       "          const docLinkHtml = 'Like what you see? Visit the ' +\n",
       "            '<a target=\"_blank\" href=https://colab.research.google.com/notebooks/data_table.ipynb>data table notebook</a>'\n",
       "            + ' to learn more about interactive tables.';\n",
       "          element.innerHTML = '';\n",
       "          dataTable['output_type'] = 'display_data';\n",
       "          await google.colab.output.renderOutput(dataTable, element);\n",
       "          const docLink = document.createElement('div');\n",
       "          docLink.innerHTML = docLinkHtml;\n",
       "          element.appendChild(docLink);\n",
       "        }\n",
       "      </script>\n",
       "    </div>\n",
       "  </div>\n",
       "  "
      ],
      "text/plain": [
       "                         id           timestamp                campaignId  \\\n",
       "0  5c4609b6eb7476266130c224 2019-01-21 18:04:38  598c1d93ca9cf7103cf61dcc   \n",
       "1  5c454de3a21d3edde84568d9 2019-01-21 04:43:15  598c1d93ca9cf7103cf61dcc   \n",
       "2  5c3c4f5769db2eee0c345059 2019-01-14 08:59:03  598c1d93ca9cf7103cf61dcc   \n",
       "3  5c4476bdf81acd685863a34f 2019-01-20 13:25:17  598c1d93ca9cf7103cf61dcc   \n",
       "4  5c456954b7d257ead2f99568 2019-01-21 06:40:20  598c1d93ca9cf7103cf61dcc   \n",
       "\n",
       "  platform softwareVersion  sourceGameId country  startCount  viewCount  \\\n",
       "0  android           4.4.2       1515907      RU           6          5   \n",
       "1  android             5.1       2724746      MY           1          0   \n",
       "2  android           4.4.4         78130      TR          49         29   \n",
       "3  android           4.4.4       1261034      TR           1          0   \n",
       "4  android             5.1       1617990      MY           7          4   \n",
       "\n",
       "   clickCount  installCount               lastStart  startCount1d  \\\n",
       "0           0             0 2019-01-21 17:58:23.728             6   \n",
       "1           0             1                     NaT             1   \n",
       "2           4             1 2019-01-14 08:56:10.539             4   \n",
       "3           0             1                     NaT             1   \n",
       "4           0             1 2019-01-21 06:38:38.298             3   \n",
       "\n",
       "   startCount7d connectionType             deviceType  day_of_month  \\\n",
       "0             6           wifi     LENOVO Lenovo A536            21   \n",
       "1             1       cellular  HUAWEI HUAWEI LUA-U22            21   \n",
       "2            17           wifi        samsung SM-T113            14   \n",
       "3             1           wifi        samsung SM-T113            20   \n",
       "4             7       cellular             OPPO X9009            21   \n",
       "\n",
       "   day_of_week  hour_of_day  diff_btw_tstamp_lstart  \n",
       "0            0           18 12 days 23:14:49.871000  \n",
       "1            0            4 11 days 07:22:52.145000  \n",
       "2            0            8  4 days 22:16:54.554000  \n",
       "3            6           13  3 days 17:27:05.364000  \n",
       "4            0            6  9 days 09:37:14.897000  "
      ]
     },
     "execution_count": 58,
     "metadata": {},
     "output_type": "execute_result"
    }
   ],
   "source": [
    "test_df.head()"
   ]
  },
  {
   "cell_type": "code",
   "execution_count": null,
   "id": "UtKJrND7Vieq",
   "metadata": {
    "id": "UtKJrND7Vieq"
   },
   "outputs": [],
   "source": [
    "input_to_nn_test = test_df.copy()\n",
    "\n",
    "input_to_nn_test_1 = input_to_nn_test.iloc[:220000]\n",
    "removed_cols = ['id','timestamp','softwareVersion','lastStart']\n",
    "input_to_nn_test_1 = drop_irr_cols(input_to_nn_test_1, removed_cols)\n",
    "input_to_nn_test_1 = lab_encode(input_to_nn_test_1,categorical_features)\n",
    "input_to_nn_test_1 =  modify_count_col(input_to_nn_test_1)\n",
    "input_to_nn_test_1 = Scale(input_to_nn_test_1, scaler)\n",
    "\n",
    "input_to_nn_test_2 = input_to_nn_test.iloc[220000:]\n",
    "removed_cols = ['id','timestamp','softwareVersion','lastStart']\n",
    "input_to_nn_test_2 = drop_irr_cols(input_to_nn_test_2, removed_cols)\n",
    "input_to_nn_test_2 = lab_encode(input_to_nn_test_2,categorical_features)\n",
    "input_to_nn_test_2 =  modify_count_col(input_to_nn_test_2)\n",
    "input_to_nn_test_2 = Scale(input_to_nn_test_2, scaler)"
   ]
  },
  {
   "cell_type": "code",
   "execution_count": null,
   "id": "IrWHIb2443Y3",
   "metadata": {
    "id": "IrWHIb2443Y3"
   },
   "outputs": [],
   "source": [
    "tabular_test_1 = TabularDataset(data= input_to_nn_test_1, cat_cols=categorical_features,\n",
    "                             output_col= None)\n",
    "test_loader_1 = DataLoader(dataset= tabular_test_1, batch_size = len(tabular_test_1))\n",
    "\n",
    "tabular_test_2 = TabularDataset(data= input_to_nn_test_2, cat_cols=categorical_features,\n",
    "                             output_col= None)\n",
    "test_loader_2 = DataLoader(dataset= tabular_test_2, batch_size = len(tabular_test_2))"
   ]
  },
  {
   "cell_type": "code",
   "execution_count": null,
   "id": "kJubhvvg86OH",
   "metadata": {
    "id": "kJubhvvg86OH"
   },
   "outputs": [],
   "source": [
    "pred_list_1 = []\n",
    "model.eval()\n",
    "with torch.no_grad():\n",
    "  for x in test_loader_1:\n",
    "    vy, vcont, vcat = x \n",
    "    vy, cont_x,cat_x = vy.to(device), vcont.to(device),vcat.to(device) \n",
    "    y_pred = model(cont_x,cat_x)\n",
    "    y_pred_tag = torch.sigmoid(y_pred)\n",
    "    pred_list_1.append(y_pred_tag.cpu().numpy())\n",
    "\n",
    "pred_list_1 = [a.squeeze().tolist() for a in pred_list_1]"
   ]
  },
  {
   "cell_type": "code",
   "execution_count": null,
   "id": "HgzcPqKB37vj",
   "metadata": {
    "id": "HgzcPqKB37vj"
   },
   "outputs": [],
   "source": [
    "final_pred_test1 = []\n",
    "for sub_list in pred_list_1[0]:\n",
    "    final_pred_test1.append(sub_list)"
   ]
  },
  {
   "cell_type": "code",
   "execution_count": null,
   "id": "E4qx2qaXjrWo",
   "metadata": {
    "id": "E4qx2qaXjrWo"
   },
   "outputs": [],
   "source": [
    "pred_list_2 = []\n",
    "model.eval()\n",
    "with torch.no_grad():\n",
    "    for x in test_loader_2:\n",
    "        vy, vcont, vcat = x \n",
    "        vy, cont_x,cat_x = vy.to(device), vcont.to(device),vcat.to(device) \n",
    "        y_pred = model(cont_x,cat_x)\n",
    "        y_pred_tag = torch.sigmoid(y_pred)\n",
    "        pred_list_2.append(y_pred_tag.cpu().numpy())\n",
    "\n",
    "pred_list_2 = [a.squeeze().tolist() for a in pred_list_2]"
   ]
  },
  {
   "cell_type": "code",
   "execution_count": null,
   "id": "r_cGBu0Zj8P2",
   "metadata": {
    "id": "r_cGBu0Zj8P2"
   },
   "outputs": [],
   "source": [
    "final_pred_test2 = []\n",
    "for sub_list in pred_list_2[0]:\n",
    "    final_pred_test2.append(sub_list)"
   ]
  },
  {
   "cell_type": "code",
   "execution_count": null,
   "id": "GVG1OLSsO0V9",
   "metadata": {
    "id": "GVG1OLSsO0V9"
   },
   "outputs": [],
   "source": [
    "y_pred_test = final_pred_test1 + final_pred_test2"
   ]
  },
  {
   "cell_type": "code",
   "execution_count": null,
   "id": "ihxnw1-_0qqv",
   "metadata": {
    "id": "ihxnw1-_0qqv"
   },
   "outputs": [],
   "source": [
    "# Your code starts here\n",
    "test_predictions_df = pd.DataFrame(columns = ['id','install_proba'])\n",
    "\n",
    "test_predictions_df['id'] = test_df['id']\n",
    "test_predictions_df['install_proba'] = y_pred_test\n",
    "#test_predictions_df.to_csv(\"unity_final_data.csv\", index = None, header=True)\n",
    "\n",
    "test_predictions_df.to_csv(\"test_predictions.csv\", header=True, index=False, sep=\";\")"
   ]
  },
  {
   "cell_type": "code",
   "execution_count": null,
   "id": "kv-bGMK5y9Ix",
   "metadata": {
    "colab": {
     "base_uri": "https://localhost:8080/",
     "height": 206
    },
    "id": "kv-bGMK5y9Ix",
    "outputId": "914b3aaa-f4dd-4296-d855-4b3b72cb783a"
   },
   "outputs": [
    {
     "data": {
      "text/html": [
       "\n",
       "  <div id=\"df-37786465-47fb-4def-af65-4f08cb2f7333\">\n",
       "    <div class=\"colab-df-container\">\n",
       "      <div>\n",
       "<style scoped>\n",
       "    .dataframe tbody tr th:only-of-type {\n",
       "        vertical-align: middle;\n",
       "    }\n",
       "\n",
       "    .dataframe tbody tr th {\n",
       "        vertical-align: top;\n",
       "    }\n",
       "\n",
       "    .dataframe thead th {\n",
       "        text-align: right;\n",
       "    }\n",
       "</style>\n",
       "<table border=\"1\" class=\"dataframe\">\n",
       "  <thead>\n",
       "    <tr style=\"text-align: right;\">\n",
       "      <th></th>\n",
       "      <th>id</th>\n",
       "      <th>install_proba</th>\n",
       "    </tr>\n",
       "  </thead>\n",
       "  <tbody>\n",
       "    <tr>\n",
       "      <th>0</th>\n",
       "      <td>5c4609b6eb7476266130c224</td>\n",
       "      <td>0.999895</td>\n",
       "    </tr>\n",
       "    <tr>\n",
       "      <th>1</th>\n",
       "      <td>5c454de3a21d3edde84568d9</td>\n",
       "      <td>0.998117</td>\n",
       "    </tr>\n",
       "    <tr>\n",
       "      <th>2</th>\n",
       "      <td>5c3c4f5769db2eee0c345059</td>\n",
       "      <td>1.000000</td>\n",
       "    </tr>\n",
       "    <tr>\n",
       "      <th>3</th>\n",
       "      <td>5c4476bdf81acd685863a34f</td>\n",
       "      <td>0.991016</td>\n",
       "    </tr>\n",
       "    <tr>\n",
       "      <th>4</th>\n",
       "      <td>5c456954b7d257ead2f99568</td>\n",
       "      <td>1.000000</td>\n",
       "    </tr>\n",
       "  </tbody>\n",
       "</table>\n",
       "</div>\n",
       "      <button class=\"colab-df-convert\" onclick=\"convertToInteractive('df-37786465-47fb-4def-af65-4f08cb2f7333')\"\n",
       "              title=\"Convert this dataframe to an interactive table.\"\n",
       "              style=\"display:none;\">\n",
       "        \n",
       "  <svg xmlns=\"http://www.w3.org/2000/svg\" height=\"24px\"viewBox=\"0 0 24 24\"\n",
       "       width=\"24px\">\n",
       "    <path d=\"M0 0h24v24H0V0z\" fill=\"none\"/>\n",
       "    <path d=\"M18.56 5.44l.94 2.06.94-2.06 2.06-.94-2.06-.94-.94-2.06-.94 2.06-2.06.94zm-11 1L8.5 8.5l.94-2.06 2.06-.94-2.06-.94L8.5 2.5l-.94 2.06-2.06.94zm10 10l.94 2.06.94-2.06 2.06-.94-2.06-.94-.94-2.06-.94 2.06-2.06.94z\"/><path d=\"M17.41 7.96l-1.37-1.37c-.4-.4-.92-.59-1.43-.59-.52 0-1.04.2-1.43.59L10.3 9.45l-7.72 7.72c-.78.78-.78 2.05 0 2.83L4 21.41c.39.39.9.59 1.41.59.51 0 1.02-.2 1.41-.59l7.78-7.78 2.81-2.81c.8-.78.8-2.07 0-2.86zM5.41 20L4 18.59l7.72-7.72 1.47 1.35L5.41 20z\"/>\n",
       "  </svg>\n",
       "      </button>\n",
       "      \n",
       "  <style>\n",
       "    .colab-df-container {\n",
       "      display:flex;\n",
       "      flex-wrap:wrap;\n",
       "      gap: 12px;\n",
       "    }\n",
       "\n",
       "    .colab-df-convert {\n",
       "      background-color: #E8F0FE;\n",
       "      border: none;\n",
       "      border-radius: 50%;\n",
       "      cursor: pointer;\n",
       "      display: none;\n",
       "      fill: #1967D2;\n",
       "      height: 32px;\n",
       "      padding: 0 0 0 0;\n",
       "      width: 32px;\n",
       "    }\n",
       "\n",
       "    .colab-df-convert:hover {\n",
       "      background-color: #E2EBFA;\n",
       "      box-shadow: 0px 1px 2px rgba(60, 64, 67, 0.3), 0px 1px 3px 1px rgba(60, 64, 67, 0.15);\n",
       "      fill: #174EA6;\n",
       "    }\n",
       "\n",
       "    [theme=dark] .colab-df-convert {\n",
       "      background-color: #3B4455;\n",
       "      fill: #D2E3FC;\n",
       "    }\n",
       "\n",
       "    [theme=dark] .colab-df-convert:hover {\n",
       "      background-color: #434B5C;\n",
       "      box-shadow: 0px 1px 3px 1px rgba(0, 0, 0, 0.15);\n",
       "      filter: drop-shadow(0px 1px 2px rgba(0, 0, 0, 0.3));\n",
       "      fill: #FFFFFF;\n",
       "    }\n",
       "  </style>\n",
       "\n",
       "      <script>\n",
       "        const buttonEl =\n",
       "          document.querySelector('#df-37786465-47fb-4def-af65-4f08cb2f7333 button.colab-df-convert');\n",
       "        buttonEl.style.display =\n",
       "          google.colab.kernel.accessAllowed ? 'block' : 'none';\n",
       "\n",
       "        async function convertToInteractive(key) {\n",
       "          const element = document.querySelector('#df-37786465-47fb-4def-af65-4f08cb2f7333');\n",
       "          const dataTable =\n",
       "            await google.colab.kernel.invokeFunction('convertToInteractive',\n",
       "                                                     [key], {});\n",
       "          if (!dataTable) return;\n",
       "\n",
       "          const docLinkHtml = 'Like what you see? Visit the ' +\n",
       "            '<a target=\"_blank\" href=https://colab.research.google.com/notebooks/data_table.ipynb>data table notebook</a>'\n",
       "            + ' to learn more about interactive tables.';\n",
       "          element.innerHTML = '';\n",
       "          dataTable['output_type'] = 'display_data';\n",
       "          await google.colab.output.renderOutput(dataTable, element);\n",
       "          const docLink = document.createElement('div');\n",
       "          docLink.innerHTML = docLinkHtml;\n",
       "          element.appendChild(docLink);\n",
       "        }\n",
       "      </script>\n",
       "    </div>\n",
       "  </div>\n",
       "  "
      ],
      "text/plain": [
       "                         id  install_proba\n",
       "0  5c4609b6eb7476266130c224       0.999895\n",
       "1  5c454de3a21d3edde84568d9       0.998117\n",
       "2  5c3c4f5769db2eee0c345059       1.000000\n",
       "3  5c4476bdf81acd685863a34f       0.991016\n",
       "4  5c456954b7d257ead2f99568       1.000000"
      ]
     },
     "execution_count": 55,
     "metadata": {},
     "output_type": "execute_result"
    }
   ],
   "source": [
    "df_pred = pd.read_csv('test_predictions.csv', sep =';')\n",
    "df_pred.head() ### A peak into the predicted values"
   ]
  },
  {
   "cell_type": "code",
   "execution_count": null,
   "id": "Q_O0UF55zKNv",
   "metadata": {
    "id": "Q_O0UF55zKNv"
   },
   "outputs": [],
   "source": []
  }
 ],
 "metadata": {
  "accelerator": "GPU",
  "colab": {
   "collapsed_sections": [
    "t7caOwadpwNd"
   ],
   "name": "unity_ds_ui_quiz_final.ipynb",
   "provenance": []
  },
  "hide_input": false,
  "kernelspec": {
   "display_name": "Python 3",
   "language": "python",
   "name": "python3"
  },
  "language_info": {
   "codemirror_mode": {
    "name": "ipython",
    "version": 3
   },
   "file_extension": ".py",
   "mimetype": "text/x-python",
   "name": "python",
   "nbconvert_exporter": "python",
   "pygments_lexer": "ipython3",
   "version": "3.8.8"
  },
  "metadata": {
   "interpreter": {
    "hash": "15c3220e82aafb8408901b964fa2a57de26e04db32fe34c7748a0f76eb189db1"
   }
  }
 },
 "nbformat": 4,
 "nbformat_minor": 5
}
